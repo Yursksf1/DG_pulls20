{
 "cells": [
  {
   "cell_type": "code",
   "execution_count": 16,
   "metadata": {},
   "outputs": [],
   "source": [
    "from polls.models import Question, Choice"
   ]
  },
  {
   "cell_type": "code",
   "execution_count": 17,
   "metadata": {},
   "outputs": [
    {
     "data": {
      "text/plain": [
       "<QuerySet [<Question: Question object (1)>]>"
      ]
     },
     "execution_count": 17,
     "metadata": {},
     "output_type": "execute_result"
    }
   ],
   "source": [
    "Question.objects.all()"
   ]
  },
  {
   "cell_type": "code",
   "execution_count": 6,
   "metadata": {
    "collapsed": true
   },
   "outputs": [
    {
     "name": "stdout",
     "output_type": "stream",
     "text": [
      "Help on QuerySet in module django.db.models.query object:\n",
      "\n",
      "class QuerySet(builtins.object)\n",
      " |  Represent a lazy database lookup for a set of objects.\n",
      " |  \n",
      " |  Methods defined here:\n",
      " |  \n",
      " |  __and__(self, other)\n",
      " |  \n",
      " |  __bool__(self)\n",
      " |  \n",
      " |  __deepcopy__(self, memo)\n",
      " |      Don't populate the QuerySet's cache.\n",
      " |  \n",
      " |  __getitem__(self, k)\n",
      " |      Retrieve an item or slice from the set of results.\n",
      " |  \n",
      " |  __getstate__(self)\n",
      " |  \n",
      " |  __init__(self, model=None, query=None, using=None, hints=None)\n",
      " |      Initialize self.  See help(type(self)) for accurate signature.\n",
      " |  \n",
      " |  __iter__(self)\n",
      " |      The queryset iterator protocol uses three nested iterators in the\n",
      " |      default case:\n",
      " |          1. sql.compiler:execute_sql()\n",
      " |             - Returns 100 rows at time (constants.GET_ITERATOR_CHUNK_SIZE)\n",
      " |               using cursor.fetchmany(). This part is responsible for\n",
      " |               doing some column masking, and returning the rows in chunks.\n",
      " |          2. sql.compiler.results_iter()\n",
      " |             - Returns one row at time. At this point the rows are still just\n",
      " |               tuples. In some cases the return values are converted to\n",
      " |               Python values at this location.\n",
      " |          3. self.iterator()\n",
      " |             - Responsible for turning the rows into model objects.\n",
      " |  \n",
      " |  __len__(self)\n",
      " |  \n",
      " |  __or__(self, other)\n",
      " |  \n",
      " |  __repr__(self)\n",
      " |      Return repr(self).\n",
      " |  \n",
      " |  __setstate__(self, state)\n",
      " |  \n",
      " |  aggregate(self, *args, **kwargs)\n",
      " |      Return a dictionary containing the calculations (aggregation)\n",
      " |      over the current queryset.\n",
      " |      \n",
      " |      If args is present the expression is passed as a kwarg using\n",
      " |      the Aggregate object's default alias.\n",
      " |  \n",
      " |  all(self)\n",
      " |      Return a new QuerySet that is a copy of the current one. This allows a\n",
      " |      QuerySet to proxy for a model manager in some cases.\n",
      " |  \n",
      " |  annotate(self, *args, **kwargs)\n",
      " |      Return a query set in which the returned objects have been annotated\n",
      " |      with extra data or aggregations.\n",
      " |  \n",
      " |  bulk_create(self, objs, batch_size=None)\n",
      " |      Insert each of the instances into the database. Do *not* call\n",
      " |      save() on each of the instances, do not send any pre/post_save\n",
      " |      signals, and do not set the primary key attribute if it is an\n",
      " |      autoincrement field (except if features.can_return_ids_from_bulk_insert=True).\n",
      " |      Multi-table models are not supported.\n",
      " |  \n",
      " |  complex_filter(self, filter_obj)\n",
      " |      Return a new QuerySet instance with filter_obj added to the filters.\n",
      " |      \n",
      " |      filter_obj can be a Q object or a dictionary of keyword lookup\n",
      " |      arguments.\n",
      " |      \n",
      " |      This exists to support framework features such as 'limit_choices_to',\n",
      " |      and usually it will be more natural to use other methods.\n",
      " |  \n",
      " |  count(self)\n",
      " |      Perform a SELECT COUNT() and return the number of records as an\n",
      " |      integer.\n",
      " |      \n",
      " |      If the QuerySet is already fully cached, return the length of the\n",
      " |      cached results set to avoid multiple SELECT COUNT(*) calls.\n",
      " |  \n",
      " |  create(self, **kwargs)\n",
      " |      Create a new object with the given kwargs, saving it to the database\n",
      " |      and returning the created object.\n",
      " |  \n",
      " |  dates(self, field_name, kind, order='ASC')\n",
      " |      Return a list of date objects representing all available dates for\n",
      " |      the given field_name, scoped to 'kind'.\n",
      " |  \n",
      " |  datetimes(self, field_name, kind, order='ASC', tzinfo=None)\n",
      " |      Return a list of datetime objects representing all available\n",
      " |      datetimes for the given field_name, scoped to 'kind'.\n",
      " |  \n",
      " |  defer(self, *fields)\n",
      " |      Defer the loading of data for certain fields until they are accessed.\n",
      " |      Add the set of deferred fields to any existing set of deferred fields.\n",
      " |      The only exception to this is if None is passed in as the only\n",
      " |      parameter, in which case removal all deferrals.\n",
      " |  \n",
      " |  delete(self)\n",
      " |      Delete the records in the current QuerySet.\n",
      " |  \n",
      " |  difference(self, *other_qs)\n",
      " |  \n",
      " |  distinct(self, *field_names)\n",
      " |      Return a new QuerySet instance that will select only distinct results.\n",
      " |  \n",
      " |  earliest(self, *fields, field_name=None)\n",
      " |  \n",
      " |  exclude(self, *args, **kwargs)\n",
      " |      Return a new QuerySet instance with NOT (args) ANDed to the existing\n",
      " |      set.\n",
      " |  \n",
      " |  exists(self)\n",
      " |  \n",
      " |  extra(self, select=None, where=None, params=None, tables=None, order_by=None, select_params=None)\n",
      " |      Add extra SQL fragments to the query.\n",
      " |  \n",
      " |  filter(self, *args, **kwargs)\n",
      " |      Return a new QuerySet instance with the args ANDed to the existing\n",
      " |      set.\n",
      " |  \n",
      " |  first(self)\n",
      " |      Return the first object of a query or None if no match is found.\n",
      " |  \n",
      " |  get(self, *args, **kwargs)\n",
      " |      Perform the query and return a single object matching the given\n",
      " |      keyword arguments.\n",
      " |  \n",
      " |  get_or_create(self, defaults=None, **kwargs)\n",
      " |      Look up an object with the given kwargs, creating one if necessary.\n",
      " |      Return a tuple of (object, created), where created is a boolean\n",
      " |      specifying whether an object was created.\n",
      " |  \n",
      " |  in_bulk(self, id_list=None, *, field_name='pk')\n",
      " |      Return a dictionary mapping each of the given IDs to the object with\n",
      " |      that ID. If `id_list` isn't provided, evaluate the entire QuerySet.\n",
      " |  \n",
      " |  intersection(self, *other_qs)\n",
      " |  \n",
      " |  iterator(self, chunk_size=2000)\n",
      " |      An iterator over the results from applying this QuerySet to the\n",
      " |      database.\n",
      " |  \n",
      " |  last(self)\n",
      " |      Return the last object of a query or None if no match is found.\n",
      " |  \n",
      " |  latest(self, *fields, field_name=None)\n",
      " |  \n",
      " |  none(self)\n",
      " |      Return an empty QuerySet.\n",
      " |  \n",
      " |  only(self, *fields)\n",
      " |      Essentially, the opposite of defer(). Only the fields passed into this\n",
      " |      method and that are not already specified as deferred are loaded\n",
      " |      immediately when the queryset is evaluated.\n",
      " |  \n",
      " |  order_by(self, *field_names)\n",
      " |      Return a new QuerySet instance with the ordering changed.\n",
      " |  \n",
      " |  prefetch_related(self, *lookups)\n",
      " |      Return a new QuerySet instance that will prefetch the specified\n",
      " |      Many-To-One and Many-To-Many related objects when the QuerySet is\n",
      " |      evaluated.\n",
      " |      \n",
      " |      When prefetch_related() is called more than once, append to the list of\n",
      " |      prefetch lookups. If prefetch_related(None) is called, clear the list.\n",
      " |  \n",
      " |  raw(self, raw_query, params=None, translations=None, using=None)\n",
      " |  \n",
      " |  resolve_expression(self, *args, **kwargs)\n",
      " |  \n",
      " |  reverse(self)\n",
      " |      Reverse the ordering of the QuerySet.\n",
      " |  \n",
      " |  select_for_update(self, nowait=False, skip_locked=False, of=())\n",
      " |      Return a new QuerySet instance that will select objects with a\n",
      " |      FOR UPDATE lock.\n",
      " |  \n",
      " |  select_related(self, *fields)\n",
      " |      Return a new QuerySet instance that will select related objects.\n",
      " |      \n",
      " |      If fields are specified, they must be ForeignKey fields and only those\n",
      " |      related objects are included in the selection.\n",
      " |      \n",
      " |      If select_related(None) is called, clear the list.\n",
      " |  \n",
      " |  union(self, *other_qs, all=False)\n",
      " |  \n",
      " |  update(self, **kwargs)\n",
      " |      Update all elements in the current QuerySet, setting all the given\n",
      " |      fields to the appropriate values.\n",
      " |  \n",
      " |  update_or_create(self, defaults=None, **kwargs)\n",
      " |      Look up an object with the given kwargs, updating one with defaults\n",
      " |      if it exists, otherwise create a new one.\n",
      " |      Return a tuple (object, created), where created is a boolean\n",
      " |      specifying whether an object was created.\n",
      " |  \n",
      " |  using(self, alias)\n",
      " |      Select which database this QuerySet should execute against.\n",
      " |  \n",
      " |  values(self, *fields, **expressions)\n",
      " |  \n",
      " |  values_list(self, *fields, flat=False, named=False)\n",
      " |  \n",
      " |  ----------------------------------------------------------------------\n",
      " |  Class methods defined here:\n",
      " |  \n",
      " |  as_manager() from builtins.type\n",
      " |  \n",
      " |  ----------------------------------------------------------------------\n",
      " |  Data descriptors defined here:\n",
      " |  \n",
      " |  __dict__\n",
      " |      dictionary for instance variables (if defined)\n",
      " |  \n",
      " |  __weakref__\n",
      " |      list of weak references to the object (if defined)\n",
      " |  \n",
      " |  db\n",
      " |      Return the database used if this query is executed now.\n",
      " |  \n",
      " |  ordered\n",
      " |      Return True if the QuerySet is ordered -- i.e. has an order_by()\n",
      " |      clause or a default ordering on the model.\n",
      "\n"
     ]
    }
   ],
   "source": [
    "help(Question.objects.all())"
   ]
  },
  {
   "cell_type": "code",
   "execution_count": 18,
   "metadata": {},
   "outputs": [],
   "source": [
    "from django.utils import timezone"
   ]
  },
  {
   "cell_type": "code",
   "execution_count": 56,
   "metadata": {},
   "outputs": [],
   "source": [
    "q = Question(question_text=\"What's new?\", pub_date=timezone.now())"
   ]
  },
  {
   "cell_type": "code",
   "execution_count": 57,
   "metadata": {},
   "outputs": [],
   "source": [
    "q.save()"
   ]
  },
  {
   "cell_type": "code",
   "execution_count": 58,
   "metadata": {},
   "outputs": [
    {
     "data": {
      "text/plain": [
       "3"
      ]
     },
     "execution_count": 58,
     "metadata": {},
     "output_type": "execute_result"
    }
   ],
   "source": [
    "q.id"
   ]
  },
  {
   "cell_type": "code",
   "execution_count": 59,
   "metadata": {},
   "outputs": [
    {
     "data": {
      "text/plain": [
       "\"What's new?\""
      ]
     },
     "execution_count": 59,
     "metadata": {},
     "output_type": "execute_result"
    }
   ],
   "source": [
    "q.question_text"
   ]
  },
  {
   "cell_type": "code",
   "execution_count": 60,
   "metadata": {},
   "outputs": [
    {
     "data": {
      "text/plain": [
       "datetime.datetime(2018, 3, 22, 3, 48, 53, 9599, tzinfo=<UTC>)"
      ]
     },
     "execution_count": 60,
     "metadata": {},
     "output_type": "execute_result"
    }
   ],
   "source": [
    "q.pub_date"
   ]
  },
  {
   "cell_type": "code",
   "execution_count": 61,
   "metadata": {},
   "outputs": [],
   "source": [
    "q.question_text = \"Hello?\""
   ]
  },
  {
   "cell_type": "code",
   "execution_count": 62,
   "metadata": {},
   "outputs": [],
   "source": [
    "q.save()"
   ]
  },
  {
   "cell_type": "code",
   "execution_count": 63,
   "metadata": {},
   "outputs": [
    {
     "data": {
      "text/plain": [
       "<QuerySet [<Question: What's up?>, <Question: Hello?>]>"
      ]
     },
     "execution_count": 63,
     "metadata": {},
     "output_type": "execute_result"
    }
   ],
   "source": [
    "Question.objects.all()"
   ]
  },
  {
   "cell_type": "markdown",
   "metadata": {},
   "source": [
    "## 2 Step"
   ]
  },
  {
   "cell_type": "code",
   "execution_count": 1,
   "metadata": {},
   "outputs": [],
   "source": [
    "from polls.models import Question, Choice"
   ]
  },
  {
   "cell_type": "code",
   "execution_count": 65,
   "metadata": {},
   "outputs": [
    {
     "data": {
      "text/plain": [
       "<QuerySet [<Question: What's up?>, <Question: Hello?>]>"
      ]
     },
     "execution_count": 65,
     "metadata": {},
     "output_type": "execute_result"
    }
   ],
   "source": [
    "Question.objects.all()"
   ]
  },
  {
   "cell_type": "code",
   "execution_count": 66,
   "metadata": {},
   "outputs": [
    {
     "data": {
      "text/plain": [
       "<QuerySet [<Question: What's up?>]>"
      ]
     },
     "execution_count": 66,
     "metadata": {},
     "output_type": "execute_result"
    }
   ],
   "source": [
    "Question.objects.filter(id=1)"
   ]
  },
  {
   "cell_type": "code",
   "execution_count": 69,
   "metadata": {},
   "outputs": [
    {
     "data": {
      "text/plain": [
       "<QuerySet [<Question: What's up?>]>"
      ]
     },
     "execution_count": 69,
     "metadata": {},
     "output_type": "execute_result"
    }
   ],
   "source": [
    "Question.objects.filter(question_text__startswith='What')"
   ]
  },
  {
   "cell_type": "code",
   "execution_count": 5,
   "metadata": {},
   "outputs": [],
   "source": [
    "from django.utils import timezone"
   ]
  },
  {
   "cell_type": "code",
   "execution_count": 71,
   "metadata": {},
   "outputs": [],
   "source": [
    "current_year = timezone.now().year"
   ]
  },
  {
   "cell_type": "code",
   "execution_count": 72,
   "metadata": {
    "collapsed": true
   },
   "outputs": [
    {
     "ename": "MultipleObjectsReturned",
     "evalue": "get() returned more than one Question -- it returned 2!",
     "output_type": "error",
     "traceback": [
      "\u001b[0;31m---------------------------------------------------------------------------\u001b[0m",
      "\u001b[0;31mMultipleObjectsReturned\u001b[0m                   Traceback (most recent call last)",
      "\u001b[0;32m<ipython-input-72-05adfe5e79c1>\u001b[0m in \u001b[0;36m<module>\u001b[0;34m()\u001b[0m\n\u001b[0;32m----> 1\u001b[0;31m \u001b[0mQuestion\u001b[0m\u001b[0;34m.\u001b[0m\u001b[0mobjects\u001b[0m\u001b[0;34m.\u001b[0m\u001b[0mget\u001b[0m\u001b[0;34m(\u001b[0m\u001b[0mpub_date__year\u001b[0m\u001b[0;34m=\u001b[0m\u001b[0mcurrent_year\u001b[0m\u001b[0;34m)\u001b[0m\u001b[0;34m\u001b[0m\u001b[0m\n\u001b[0m",
      "\u001b[0;32m~/Escritorio/dev/dev17/venv/lib/python3.6/site-packages/django/db/models/manager.py\u001b[0m in \u001b[0;36mmanager_method\u001b[0;34m(self, *args, **kwargs)\u001b[0m\n\u001b[1;32m     80\u001b[0m         \u001b[0;32mdef\u001b[0m \u001b[0mcreate_method\u001b[0m\u001b[0;34m(\u001b[0m\u001b[0mname\u001b[0m\u001b[0;34m,\u001b[0m \u001b[0mmethod\u001b[0m\u001b[0;34m)\u001b[0m\u001b[0;34m:\u001b[0m\u001b[0;34m\u001b[0m\u001b[0m\n\u001b[1;32m     81\u001b[0m             \u001b[0;32mdef\u001b[0m \u001b[0mmanager_method\u001b[0m\u001b[0;34m(\u001b[0m\u001b[0mself\u001b[0m\u001b[0;34m,\u001b[0m \u001b[0;34m*\u001b[0m\u001b[0margs\u001b[0m\u001b[0;34m,\u001b[0m \u001b[0;34m**\u001b[0m\u001b[0mkwargs\u001b[0m\u001b[0;34m)\u001b[0m\u001b[0;34m:\u001b[0m\u001b[0;34m\u001b[0m\u001b[0m\n\u001b[0;32m---> 82\u001b[0;31m                 \u001b[0;32mreturn\u001b[0m \u001b[0mgetattr\u001b[0m\u001b[0;34m(\u001b[0m\u001b[0mself\u001b[0m\u001b[0;34m.\u001b[0m\u001b[0mget_queryset\u001b[0m\u001b[0;34m(\u001b[0m\u001b[0;34m)\u001b[0m\u001b[0;34m,\u001b[0m \u001b[0mname\u001b[0m\u001b[0;34m)\u001b[0m\u001b[0;34m(\u001b[0m\u001b[0;34m*\u001b[0m\u001b[0margs\u001b[0m\u001b[0;34m,\u001b[0m \u001b[0;34m**\u001b[0m\u001b[0mkwargs\u001b[0m\u001b[0;34m)\u001b[0m\u001b[0;34m\u001b[0m\u001b[0m\n\u001b[0m\u001b[1;32m     83\u001b[0m             \u001b[0mmanager_method\u001b[0m\u001b[0;34m.\u001b[0m\u001b[0m__name__\u001b[0m \u001b[0;34m=\u001b[0m \u001b[0mmethod\u001b[0m\u001b[0;34m.\u001b[0m\u001b[0m__name__\u001b[0m\u001b[0;34m\u001b[0m\u001b[0m\n\u001b[1;32m     84\u001b[0m             \u001b[0mmanager_method\u001b[0m\u001b[0;34m.\u001b[0m\u001b[0m__doc__\u001b[0m \u001b[0;34m=\u001b[0m \u001b[0mmethod\u001b[0m\u001b[0;34m.\u001b[0m\u001b[0m__doc__\u001b[0m\u001b[0;34m\u001b[0m\u001b[0m\n",
      "\u001b[0;32m~/Escritorio/dev/dev17/venv/lib/python3.6/site-packages/django/db/models/query.py\u001b[0m in \u001b[0;36mget\u001b[0;34m(self, *args, **kwargs)\u001b[0m\n\u001b[1;32m    405\u001b[0m         raise self.model.MultipleObjectsReturned(\n\u001b[1;32m    406\u001b[0m             \u001b[0;34m\"get() returned more than one %s -- it returned %s!\"\u001b[0m \u001b[0;34m%\u001b[0m\u001b[0;34m\u001b[0m\u001b[0m\n\u001b[0;32m--> 407\u001b[0;31m             \u001b[0;34m(\u001b[0m\u001b[0mself\u001b[0m\u001b[0;34m.\u001b[0m\u001b[0mmodel\u001b[0m\u001b[0;34m.\u001b[0m\u001b[0m_meta\u001b[0m\u001b[0;34m.\u001b[0m\u001b[0mobject_name\u001b[0m\u001b[0;34m,\u001b[0m \u001b[0mnum\u001b[0m\u001b[0;34m)\u001b[0m\u001b[0;34m\u001b[0m\u001b[0m\n\u001b[0m\u001b[1;32m    408\u001b[0m         )\n\u001b[1;32m    409\u001b[0m \u001b[0;34m\u001b[0m\u001b[0m\n",
      "\u001b[0;31mMultipleObjectsReturned\u001b[0m: get() returned more than one Question -- it returned 2!"
     ]
    }
   ],
   "source": [
    "Question.objects.get(pub_date__year=current_year)"
   ]
  },
  {
   "cell_type": "code",
   "execution_count": 73,
   "metadata": {
    "collapsed": true
   },
   "outputs": [
    {
     "ename": "DoesNotExist",
     "evalue": "Question matching query does not exist.",
     "output_type": "error",
     "traceback": [
      "\u001b[0;31m---------------------------------------------------------------------------\u001b[0m",
      "\u001b[0;31mDoesNotExist\u001b[0m                              Traceback (most recent call last)",
      "\u001b[0;32m<ipython-input-73-75091ca84516>\u001b[0m in \u001b[0;36m<module>\u001b[0;34m()\u001b[0m\n\u001b[0;32m----> 1\u001b[0;31m \u001b[0mQuestion\u001b[0m\u001b[0;34m.\u001b[0m\u001b[0mobjects\u001b[0m\u001b[0;34m.\u001b[0m\u001b[0mget\u001b[0m\u001b[0;34m(\u001b[0m\u001b[0mid\u001b[0m\u001b[0;34m=\u001b[0m\u001b[0;36m2\u001b[0m\u001b[0;34m)\u001b[0m\u001b[0;34m\u001b[0m\u001b[0m\n\u001b[0m",
      "\u001b[0;32m~/Escritorio/dev/dev17/venv/lib/python3.6/site-packages/django/db/models/manager.py\u001b[0m in \u001b[0;36mmanager_method\u001b[0;34m(self, *args, **kwargs)\u001b[0m\n\u001b[1;32m     80\u001b[0m         \u001b[0;32mdef\u001b[0m \u001b[0mcreate_method\u001b[0m\u001b[0;34m(\u001b[0m\u001b[0mname\u001b[0m\u001b[0;34m,\u001b[0m \u001b[0mmethod\u001b[0m\u001b[0;34m)\u001b[0m\u001b[0;34m:\u001b[0m\u001b[0;34m\u001b[0m\u001b[0m\n\u001b[1;32m     81\u001b[0m             \u001b[0;32mdef\u001b[0m \u001b[0mmanager_method\u001b[0m\u001b[0;34m(\u001b[0m\u001b[0mself\u001b[0m\u001b[0;34m,\u001b[0m \u001b[0;34m*\u001b[0m\u001b[0margs\u001b[0m\u001b[0;34m,\u001b[0m \u001b[0;34m**\u001b[0m\u001b[0mkwargs\u001b[0m\u001b[0;34m)\u001b[0m\u001b[0;34m:\u001b[0m\u001b[0;34m\u001b[0m\u001b[0m\n\u001b[0;32m---> 82\u001b[0;31m                 \u001b[0;32mreturn\u001b[0m \u001b[0mgetattr\u001b[0m\u001b[0;34m(\u001b[0m\u001b[0mself\u001b[0m\u001b[0;34m.\u001b[0m\u001b[0mget_queryset\u001b[0m\u001b[0;34m(\u001b[0m\u001b[0;34m)\u001b[0m\u001b[0;34m,\u001b[0m \u001b[0mname\u001b[0m\u001b[0;34m)\u001b[0m\u001b[0;34m(\u001b[0m\u001b[0;34m*\u001b[0m\u001b[0margs\u001b[0m\u001b[0;34m,\u001b[0m \u001b[0;34m**\u001b[0m\u001b[0mkwargs\u001b[0m\u001b[0;34m)\u001b[0m\u001b[0;34m\u001b[0m\u001b[0m\n\u001b[0m\u001b[1;32m     83\u001b[0m             \u001b[0mmanager_method\u001b[0m\u001b[0;34m.\u001b[0m\u001b[0m__name__\u001b[0m \u001b[0;34m=\u001b[0m \u001b[0mmethod\u001b[0m\u001b[0;34m.\u001b[0m\u001b[0m__name__\u001b[0m\u001b[0;34m\u001b[0m\u001b[0m\n\u001b[1;32m     84\u001b[0m             \u001b[0mmanager_method\u001b[0m\u001b[0;34m.\u001b[0m\u001b[0m__doc__\u001b[0m \u001b[0;34m=\u001b[0m \u001b[0mmethod\u001b[0m\u001b[0;34m.\u001b[0m\u001b[0m__doc__\u001b[0m\u001b[0;34m\u001b[0m\u001b[0m\n",
      "\u001b[0;32m~/Escritorio/dev/dev17/venv/lib/python3.6/site-packages/django/db/models/query.py\u001b[0m in \u001b[0;36mget\u001b[0;34m(self, *args, **kwargs)\u001b[0m\n\u001b[1;32m    401\u001b[0m             raise self.model.DoesNotExist(\n\u001b[1;32m    402\u001b[0m                 \u001b[0;34m\"%s matching query does not exist.\"\u001b[0m \u001b[0;34m%\u001b[0m\u001b[0;34m\u001b[0m\u001b[0m\n\u001b[0;32m--> 403\u001b[0;31m                 \u001b[0mself\u001b[0m\u001b[0;34m.\u001b[0m\u001b[0mmodel\u001b[0m\u001b[0;34m.\u001b[0m\u001b[0m_meta\u001b[0m\u001b[0;34m.\u001b[0m\u001b[0mobject_name\u001b[0m\u001b[0;34m\u001b[0m\u001b[0m\n\u001b[0m\u001b[1;32m    404\u001b[0m             )\n\u001b[1;32m    405\u001b[0m         raise self.model.MultipleObjectsReturned(\n",
      "\u001b[0;31mDoesNotExist\u001b[0m: Question matching query does not exist."
     ]
    }
   ],
   "source": [
    "Question.objects.get(id=2)"
   ]
  },
  {
   "cell_type": "code",
   "execution_count": 9,
   "metadata": {},
   "outputs": [
    {
     "data": {
      "text/plain": [
       "<Question: What's up?>"
      ]
     },
     "execution_count": 9,
     "metadata": {},
     "output_type": "execute_result"
    }
   ],
   "source": [
    "Question.objects.get(pk=1)"
   ]
  },
  {
   "cell_type": "code",
   "execution_count": 4,
   "metadata": {},
   "outputs": [],
   "source": [
    "q = Question.objects.get(pk=3)"
   ]
  },
  {
   "cell_type": "code",
   "execution_count": 3,
   "metadata": {},
   "outputs": [
    {
     "data": {
      "text/plain": [
       "True"
      ]
     },
     "execution_count": 3,
     "metadata": {},
     "output_type": "execute_result"
    }
   ],
   "source": [
    "q.was_published_recently()"
   ]
  },
  {
   "cell_type": "code",
   "execution_count": 62,
   "metadata": {},
   "outputs": [],
   "source": [
    "q = Question.objects.get(pk=1)"
   ]
  },
  {
   "cell_type": "code",
   "execution_count": 63,
   "metadata": {
    "collapsed": true
   },
   "outputs": [
    {
     "ename": "AppRegistryNotReady",
     "evalue": "Models aren't loaded yet.",
     "output_type": "error",
     "traceback": [
      "\u001b[0;31m---------------------------------------------------------------------------\u001b[0m",
      "\u001b[0;31mAttributeError\u001b[0m                            Traceback (most recent call last)",
      "\u001b[0;32m~/Escritorio/dev/dev17/venv/lib/python3.6/site-packages/django/db/models/fields/related_descriptors.py\u001b[0m in \u001b[0;36mget_queryset\u001b[0;34m(self)\u001b[0m\n\u001b[1;32m    561\u001b[0m             \u001b[0;32mtry\u001b[0m\u001b[0;34m:\u001b[0m\u001b[0;34m\u001b[0m\u001b[0m\n\u001b[0;32m--> 562\u001b[0;31m                 \u001b[0;32mreturn\u001b[0m \u001b[0mself\u001b[0m\u001b[0;34m.\u001b[0m\u001b[0minstance\u001b[0m\u001b[0;34m.\u001b[0m\u001b[0m_prefetched_objects_cache\u001b[0m\u001b[0;34m[\u001b[0m\u001b[0mself\u001b[0m\u001b[0;34m.\u001b[0m\u001b[0mfield\u001b[0m\u001b[0;34m.\u001b[0m\u001b[0mrelated_query_name\u001b[0m\u001b[0;34m(\u001b[0m\u001b[0;34m)\u001b[0m\u001b[0;34m]\u001b[0m\u001b[0;34m\u001b[0m\u001b[0m\n\u001b[0m\u001b[1;32m    563\u001b[0m             \u001b[0;32mexcept\u001b[0m \u001b[0;34m(\u001b[0m\u001b[0mAttributeError\u001b[0m\u001b[0;34m,\u001b[0m \u001b[0mKeyError\u001b[0m\u001b[0;34m)\u001b[0m\u001b[0;34m:\u001b[0m\u001b[0;34m\u001b[0m\u001b[0m\n",
      "\u001b[0;31mAttributeError\u001b[0m: 'Question' object has no attribute '_prefetched_objects_cache'",
      "\nDuring handling of the above exception, another exception occurred:\n",
      "\u001b[0;31mAppRegistryNotReady\u001b[0m                       Traceback (most recent call last)",
      "\u001b[0;32m<ipython-input-63-3849e4b14c40>\u001b[0m in \u001b[0;36m<module>\u001b[0;34m()\u001b[0m\n\u001b[0;32m----> 1\u001b[0;31m \u001b[0mq\u001b[0m\u001b[0;34m.\u001b[0m\u001b[0mchoice_set\u001b[0m\u001b[0;34m.\u001b[0m\u001b[0mall\u001b[0m\u001b[0;34m(\u001b[0m\u001b[0;34m)\u001b[0m\u001b[0;34m\u001b[0m\u001b[0m\n\u001b[0m",
      "\u001b[0;32m~/Escritorio/dev/dev17/venv/lib/python3.6/site-packages/django/db/models/manager.py\u001b[0m in \u001b[0;36mall\u001b[0;34m(self)\u001b[0m\n\u001b[1;32m    153\u001b[0m         \u001b[0;31m# implementation of `RelatedManager.get_queryset()` for a better\u001b[0m\u001b[0;34m\u001b[0m\u001b[0;34m\u001b[0m\u001b[0m\n\u001b[1;32m    154\u001b[0m         \u001b[0;31m# understanding of how this comes into play.\u001b[0m\u001b[0;34m\u001b[0m\u001b[0;34m\u001b[0m\u001b[0m\n\u001b[0;32m--> 155\u001b[0;31m         \u001b[0;32mreturn\u001b[0m \u001b[0mself\u001b[0m\u001b[0;34m.\u001b[0m\u001b[0mget_queryset\u001b[0m\u001b[0;34m(\u001b[0m\u001b[0;34m)\u001b[0m\u001b[0;34m\u001b[0m\u001b[0m\n\u001b[0m\u001b[1;32m    156\u001b[0m \u001b[0;34m\u001b[0m\u001b[0m\n\u001b[1;32m    157\u001b[0m     \u001b[0;32mdef\u001b[0m \u001b[0m__eq__\u001b[0m\u001b[0;34m(\u001b[0m\u001b[0mself\u001b[0m\u001b[0;34m,\u001b[0m \u001b[0mother\u001b[0m\u001b[0;34m)\u001b[0m\u001b[0;34m:\u001b[0m\u001b[0;34m\u001b[0m\u001b[0m\n",
      "\u001b[0;32m~/Escritorio/dev/dev17/venv/lib/python3.6/site-packages/django/db/models/fields/related_descriptors.py\u001b[0m in \u001b[0;36mget_queryset\u001b[0;34m(self)\u001b[0m\n\u001b[1;32m    563\u001b[0m             \u001b[0;32mexcept\u001b[0m \u001b[0;34m(\u001b[0m\u001b[0mAttributeError\u001b[0m\u001b[0;34m,\u001b[0m \u001b[0mKeyError\u001b[0m\u001b[0;34m)\u001b[0m\u001b[0;34m:\u001b[0m\u001b[0;34m\u001b[0m\u001b[0m\n\u001b[1;32m    564\u001b[0m                 \u001b[0mqueryset\u001b[0m \u001b[0;34m=\u001b[0m \u001b[0msuper\u001b[0m\u001b[0;34m(\u001b[0m\u001b[0;34m)\u001b[0m\u001b[0;34m.\u001b[0m\u001b[0mget_queryset\u001b[0m\u001b[0;34m(\u001b[0m\u001b[0;34m)\u001b[0m\u001b[0;34m\u001b[0m\u001b[0m\n\u001b[0;32m--> 565\u001b[0;31m                 \u001b[0;32mreturn\u001b[0m \u001b[0mself\u001b[0m\u001b[0;34m.\u001b[0m\u001b[0m_apply_rel_filters\u001b[0m\u001b[0;34m(\u001b[0m\u001b[0mqueryset\u001b[0m\u001b[0;34m)\u001b[0m\u001b[0;34m\u001b[0m\u001b[0m\n\u001b[0m\u001b[1;32m    566\u001b[0m \u001b[0;34m\u001b[0m\u001b[0m\n\u001b[1;32m    567\u001b[0m         \u001b[0;32mdef\u001b[0m \u001b[0mget_prefetch_queryset\u001b[0m\u001b[0;34m(\u001b[0m\u001b[0mself\u001b[0m\u001b[0;34m,\u001b[0m \u001b[0minstances\u001b[0m\u001b[0;34m,\u001b[0m \u001b[0mqueryset\u001b[0m\u001b[0;34m=\u001b[0m\u001b[0;32mNone\u001b[0m\u001b[0;34m)\u001b[0m\u001b[0;34m:\u001b[0m\u001b[0;34m\u001b[0m\u001b[0m\n",
      "\u001b[0;32m~/Escritorio/dev/dev17/venv/lib/python3.6/site-packages/django/db/models/fields/related_descriptors.py\u001b[0m in \u001b[0;36m_apply_rel_filters\u001b[0;34m(self, queryset)\u001b[0m\n\u001b[1;32m    544\u001b[0m             \u001b[0;32mif\u001b[0m \u001b[0mself\u001b[0m\u001b[0;34m.\u001b[0m\u001b[0m_db\u001b[0m\u001b[0;34m:\u001b[0m\u001b[0;34m\u001b[0m\u001b[0m\n\u001b[1;32m    545\u001b[0m                 \u001b[0mqueryset\u001b[0m \u001b[0;34m=\u001b[0m \u001b[0mqueryset\u001b[0m\u001b[0;34m.\u001b[0m\u001b[0musing\u001b[0m\u001b[0;34m(\u001b[0m\u001b[0mself\u001b[0m\u001b[0;34m.\u001b[0m\u001b[0m_db\u001b[0m\u001b[0;34m)\u001b[0m\u001b[0;34m\u001b[0m\u001b[0m\n\u001b[0;32m--> 546\u001b[0;31m             \u001b[0mqueryset\u001b[0m \u001b[0;34m=\u001b[0m \u001b[0mqueryset\u001b[0m\u001b[0;34m.\u001b[0m\u001b[0mfilter\u001b[0m\u001b[0;34m(\u001b[0m\u001b[0;34m**\u001b[0m\u001b[0mself\u001b[0m\u001b[0;34m.\u001b[0m\u001b[0mcore_filters\u001b[0m\u001b[0;34m)\u001b[0m\u001b[0;34m\u001b[0m\u001b[0m\n\u001b[0m\u001b[1;32m    547\u001b[0m             \u001b[0;32mfor\u001b[0m \u001b[0mfield\u001b[0m \u001b[0;32min\u001b[0m \u001b[0mself\u001b[0m\u001b[0;34m.\u001b[0m\u001b[0mfield\u001b[0m\u001b[0;34m.\u001b[0m\u001b[0mforeign_related_fields\u001b[0m\u001b[0;34m:\u001b[0m\u001b[0;34m\u001b[0m\u001b[0m\n\u001b[1;32m    548\u001b[0m                 \u001b[0mval\u001b[0m \u001b[0;34m=\u001b[0m \u001b[0mgetattr\u001b[0m\u001b[0;34m(\u001b[0m\u001b[0mself\u001b[0m\u001b[0;34m.\u001b[0m\u001b[0minstance\u001b[0m\u001b[0;34m,\u001b[0m \u001b[0mfield\u001b[0m\u001b[0;34m.\u001b[0m\u001b[0mattname\u001b[0m\u001b[0;34m)\u001b[0m\u001b[0;34m\u001b[0m\u001b[0m\n",
      "\u001b[0;32m~/Escritorio/dev/dev17/venv/lib/python3.6/site-packages/django/db/models/query.py\u001b[0m in \u001b[0;36mfilter\u001b[0;34m(self, *args, **kwargs)\u001b[0m\n\u001b[1;32m    834\u001b[0m         \u001b[0mset\u001b[0m\u001b[0;34m.\u001b[0m\u001b[0;34m\u001b[0m\u001b[0m\n\u001b[1;32m    835\u001b[0m         \"\"\"\n\u001b[0;32m--> 836\u001b[0;31m         \u001b[0;32mreturn\u001b[0m \u001b[0mself\u001b[0m\u001b[0;34m.\u001b[0m\u001b[0m_filter_or_exclude\u001b[0m\u001b[0;34m(\u001b[0m\u001b[0;32mFalse\u001b[0m\u001b[0;34m,\u001b[0m \u001b[0;34m*\u001b[0m\u001b[0margs\u001b[0m\u001b[0;34m,\u001b[0m \u001b[0;34m**\u001b[0m\u001b[0mkwargs\u001b[0m\u001b[0;34m)\u001b[0m\u001b[0;34m\u001b[0m\u001b[0m\n\u001b[0m\u001b[1;32m    837\u001b[0m \u001b[0;34m\u001b[0m\u001b[0m\n\u001b[1;32m    838\u001b[0m     \u001b[0;32mdef\u001b[0m \u001b[0mexclude\u001b[0m\u001b[0;34m(\u001b[0m\u001b[0mself\u001b[0m\u001b[0;34m,\u001b[0m \u001b[0;34m*\u001b[0m\u001b[0margs\u001b[0m\u001b[0;34m,\u001b[0m \u001b[0;34m**\u001b[0m\u001b[0mkwargs\u001b[0m\u001b[0;34m)\u001b[0m\u001b[0;34m:\u001b[0m\u001b[0;34m\u001b[0m\u001b[0m\n",
      "\u001b[0;32m~/Escritorio/dev/dev17/venv/lib/python3.6/site-packages/django/db/models/query.py\u001b[0m in \u001b[0;36m_filter_or_exclude\u001b[0;34m(self, negate, *args, **kwargs)\u001b[0m\n\u001b[1;32m    852\u001b[0m             \u001b[0mclone\u001b[0m\u001b[0;34m.\u001b[0m\u001b[0mquery\u001b[0m\u001b[0;34m.\u001b[0m\u001b[0madd_q\u001b[0m\u001b[0;34m(\u001b[0m\u001b[0;34m~\u001b[0m\u001b[0mQ\u001b[0m\u001b[0;34m(\u001b[0m\u001b[0;34m*\u001b[0m\u001b[0margs\u001b[0m\u001b[0;34m,\u001b[0m \u001b[0;34m**\u001b[0m\u001b[0mkwargs\u001b[0m\u001b[0;34m)\u001b[0m\u001b[0;34m)\u001b[0m\u001b[0;34m\u001b[0m\u001b[0m\n\u001b[1;32m    853\u001b[0m         \u001b[0;32melse\u001b[0m\u001b[0;34m:\u001b[0m\u001b[0;34m\u001b[0m\u001b[0m\n\u001b[0;32m--> 854\u001b[0;31m             \u001b[0mclone\u001b[0m\u001b[0;34m.\u001b[0m\u001b[0mquery\u001b[0m\u001b[0;34m.\u001b[0m\u001b[0madd_q\u001b[0m\u001b[0;34m(\u001b[0m\u001b[0mQ\u001b[0m\u001b[0;34m(\u001b[0m\u001b[0;34m*\u001b[0m\u001b[0margs\u001b[0m\u001b[0;34m,\u001b[0m \u001b[0;34m**\u001b[0m\u001b[0mkwargs\u001b[0m\u001b[0;34m)\u001b[0m\u001b[0;34m)\u001b[0m\u001b[0;34m\u001b[0m\u001b[0m\n\u001b[0m\u001b[1;32m    855\u001b[0m         \u001b[0;32mreturn\u001b[0m \u001b[0mclone\u001b[0m\u001b[0;34m\u001b[0m\u001b[0m\n\u001b[1;32m    856\u001b[0m \u001b[0;34m\u001b[0m\u001b[0m\n",
      "\u001b[0;32m~/Escritorio/dev/dev17/venv/lib/python3.6/site-packages/django/db/models/sql/query.py\u001b[0m in \u001b[0;36madd_q\u001b[0;34m(self, q_object)\u001b[0m\n\u001b[1;32m   1251\u001b[0m         \u001b[0;31m# So, demotion is OK.\u001b[0m\u001b[0;34m\u001b[0m\u001b[0;34m\u001b[0m\u001b[0m\n\u001b[1;32m   1252\u001b[0m         \u001b[0mexisting_inner\u001b[0m \u001b[0;34m=\u001b[0m \u001b[0;34m{\u001b[0m\u001b[0ma\u001b[0m \u001b[0;32mfor\u001b[0m \u001b[0ma\u001b[0m \u001b[0;32min\u001b[0m \u001b[0mself\u001b[0m\u001b[0;34m.\u001b[0m\u001b[0malias_map\u001b[0m \u001b[0;32mif\u001b[0m \u001b[0mself\u001b[0m\u001b[0;34m.\u001b[0m\u001b[0malias_map\u001b[0m\u001b[0;34m[\u001b[0m\u001b[0ma\u001b[0m\u001b[0;34m]\u001b[0m\u001b[0;34m.\u001b[0m\u001b[0mjoin_type\u001b[0m \u001b[0;34m==\u001b[0m \u001b[0mINNER\u001b[0m\u001b[0;34m}\u001b[0m\u001b[0;34m\u001b[0m\u001b[0m\n\u001b[0;32m-> 1253\u001b[0;31m         \u001b[0mclause\u001b[0m\u001b[0;34m,\u001b[0m \u001b[0m_\u001b[0m \u001b[0;34m=\u001b[0m \u001b[0mself\u001b[0m\u001b[0;34m.\u001b[0m\u001b[0m_add_q\u001b[0m\u001b[0;34m(\u001b[0m\u001b[0mq_object\u001b[0m\u001b[0;34m,\u001b[0m \u001b[0mself\u001b[0m\u001b[0;34m.\u001b[0m\u001b[0mused_aliases\u001b[0m\u001b[0;34m)\u001b[0m\u001b[0;34m\u001b[0m\u001b[0m\n\u001b[0m\u001b[1;32m   1254\u001b[0m         \u001b[0;32mif\u001b[0m \u001b[0mclause\u001b[0m\u001b[0;34m:\u001b[0m\u001b[0;34m\u001b[0m\u001b[0m\n\u001b[1;32m   1255\u001b[0m             \u001b[0mself\u001b[0m\u001b[0;34m.\u001b[0m\u001b[0mwhere\u001b[0m\u001b[0;34m.\u001b[0m\u001b[0madd\u001b[0m\u001b[0;34m(\u001b[0m\u001b[0mclause\u001b[0m\u001b[0;34m,\u001b[0m \u001b[0mAND\u001b[0m\u001b[0;34m)\u001b[0m\u001b[0;34m\u001b[0m\u001b[0m\n",
      "\u001b[0;32m~/Escritorio/dev/dev17/venv/lib/python3.6/site-packages/django/db/models/sql/query.py\u001b[0m in \u001b[0;36m_add_q\u001b[0;34m(self, q_object, used_aliases, branch_negated, current_negated, allow_joins, split_subq)\u001b[0m\n\u001b[1;32m   1275\u001b[0m                     \u001b[0mchild\u001b[0m\u001b[0;34m,\u001b[0m \u001b[0mcan_reuse\u001b[0m\u001b[0;34m=\u001b[0m\u001b[0mused_aliases\u001b[0m\u001b[0;34m,\u001b[0m \u001b[0mbranch_negated\u001b[0m\u001b[0;34m=\u001b[0m\u001b[0mbranch_negated\u001b[0m\u001b[0;34m,\u001b[0m\u001b[0;34m\u001b[0m\u001b[0m\n\u001b[1;32m   1276\u001b[0m                     \u001b[0mcurrent_negated\u001b[0m\u001b[0;34m=\u001b[0m\u001b[0mcurrent_negated\u001b[0m\u001b[0;34m,\u001b[0m \u001b[0mallow_joins\u001b[0m\u001b[0;34m=\u001b[0m\u001b[0mallow_joins\u001b[0m\u001b[0;34m,\u001b[0m\u001b[0;34m\u001b[0m\u001b[0m\n\u001b[0;32m-> 1277\u001b[0;31m                     \u001b[0msplit_subq\u001b[0m\u001b[0;34m=\u001b[0m\u001b[0msplit_subq\u001b[0m\u001b[0;34m,\u001b[0m\u001b[0;34m\u001b[0m\u001b[0m\n\u001b[0m\u001b[1;32m   1278\u001b[0m                 )\n\u001b[1;32m   1279\u001b[0m                 \u001b[0mjoinpromoter\u001b[0m\u001b[0;34m.\u001b[0m\u001b[0madd_votes\u001b[0m\u001b[0;34m(\u001b[0m\u001b[0mneeded_inner\u001b[0m\u001b[0;34m)\u001b[0m\u001b[0;34m\u001b[0m\u001b[0m\n",
      "\u001b[0;32m~/Escritorio/dev/dev17/venv/lib/python3.6/site-packages/django/db/models/sql/query.py\u001b[0m in \u001b[0;36mbuild_filter\u001b[0;34m(self, filter_expr, branch_negated, current_negated, can_reuse, allow_joins, split_subq, reuse_with_filtered_relation)\u001b[0m\n\u001b[1;32m   1151\u001b[0m         \u001b[0;32mif\u001b[0m \u001b[0;32mnot\u001b[0m \u001b[0marg\u001b[0m\u001b[0;34m:\u001b[0m\u001b[0;34m\u001b[0m\u001b[0m\n\u001b[1;32m   1152\u001b[0m             \u001b[0;32mraise\u001b[0m \u001b[0mFieldError\u001b[0m\u001b[0;34m(\u001b[0m\u001b[0;34m\"Cannot parse keyword query %r\"\u001b[0m \u001b[0;34m%\u001b[0m \u001b[0marg\u001b[0m\u001b[0;34m)\u001b[0m\u001b[0;34m\u001b[0m\u001b[0m\n\u001b[0;32m-> 1153\u001b[0;31m         \u001b[0mlookups\u001b[0m\u001b[0;34m,\u001b[0m \u001b[0mparts\u001b[0m\u001b[0;34m,\u001b[0m \u001b[0mreffed_expression\u001b[0m \u001b[0;34m=\u001b[0m \u001b[0mself\u001b[0m\u001b[0;34m.\u001b[0m\u001b[0msolve_lookup_type\u001b[0m\u001b[0;34m(\u001b[0m\u001b[0marg\u001b[0m\u001b[0;34m)\u001b[0m\u001b[0;34m\u001b[0m\u001b[0m\n\u001b[0m\u001b[1;32m   1154\u001b[0m \u001b[0;34m\u001b[0m\u001b[0m\n\u001b[1;32m   1155\u001b[0m         \u001b[0;32mif\u001b[0m \u001b[0;32mnot\u001b[0m \u001b[0mgetattr\u001b[0m\u001b[0;34m(\u001b[0m\u001b[0mreffed_expression\u001b[0m\u001b[0;34m,\u001b[0m \u001b[0;34m'filterable'\u001b[0m\u001b[0;34m,\u001b[0m \u001b[0;32mTrue\u001b[0m\u001b[0;34m)\u001b[0m\u001b[0;34m:\u001b[0m\u001b[0;34m\u001b[0m\u001b[0m\n",
      "\u001b[0;32m~/Escritorio/dev/dev17/venv/lib/python3.6/site-packages/django/db/models/sql/query.py\u001b[0m in \u001b[0;36msolve_lookup_type\u001b[0;34m(self, lookup)\u001b[0m\n\u001b[1;32m   1013\u001b[0m             \u001b[0;32mif\u001b[0m \u001b[0mexpression\u001b[0m\u001b[0;34m:\u001b[0m\u001b[0;34m\u001b[0m\u001b[0m\n\u001b[1;32m   1014\u001b[0m                 \u001b[0;32mreturn\u001b[0m \u001b[0mexpression_lookups\u001b[0m\u001b[0;34m,\u001b[0m \u001b[0;34m(\u001b[0m\u001b[0;34m)\u001b[0m\u001b[0;34m,\u001b[0m \u001b[0mexpression\u001b[0m\u001b[0;34m\u001b[0m\u001b[0m\n\u001b[0;32m-> 1015\u001b[0;31m         \u001b[0m_\u001b[0m\u001b[0;34m,\u001b[0m \u001b[0mfield\u001b[0m\u001b[0;34m,\u001b[0m \u001b[0m_\u001b[0m\u001b[0;34m,\u001b[0m \u001b[0mlookup_parts\u001b[0m \u001b[0;34m=\u001b[0m \u001b[0mself\u001b[0m\u001b[0;34m.\u001b[0m\u001b[0mnames_to_path\u001b[0m\u001b[0;34m(\u001b[0m\u001b[0mlookup_splitted\u001b[0m\u001b[0;34m,\u001b[0m \u001b[0mself\u001b[0m\u001b[0;34m.\u001b[0m\u001b[0mget_meta\u001b[0m\u001b[0;34m(\u001b[0m\u001b[0;34m)\u001b[0m\u001b[0;34m)\u001b[0m\u001b[0;34m\u001b[0m\u001b[0m\n\u001b[0m\u001b[1;32m   1016\u001b[0m         \u001b[0mfield_parts\u001b[0m \u001b[0;34m=\u001b[0m \u001b[0mlookup_splitted\u001b[0m\u001b[0;34m[\u001b[0m\u001b[0;36m0\u001b[0m\u001b[0;34m:\u001b[0m\u001b[0mlen\u001b[0m\u001b[0;34m(\u001b[0m\u001b[0mlookup_splitted\u001b[0m\u001b[0;34m)\u001b[0m \u001b[0;34m-\u001b[0m \u001b[0mlen\u001b[0m\u001b[0;34m(\u001b[0m\u001b[0mlookup_parts\u001b[0m\u001b[0;34m)\u001b[0m\u001b[0;34m]\u001b[0m\u001b[0;34m\u001b[0m\u001b[0m\n\u001b[1;32m   1017\u001b[0m         \u001b[0;32mif\u001b[0m \u001b[0mlen\u001b[0m\u001b[0;34m(\u001b[0m\u001b[0mlookup_parts\u001b[0m\u001b[0;34m)\u001b[0m \u001b[0;34m>\u001b[0m \u001b[0;36m1\u001b[0m \u001b[0;32mand\u001b[0m \u001b[0;32mnot\u001b[0m \u001b[0mfield_parts\u001b[0m\u001b[0;34m:\u001b[0m\u001b[0;34m\u001b[0m\u001b[0m\n",
      "\u001b[0;32m~/Escritorio/dev/dev17/venv/lib/python3.6/site-packages/django/db/models/sql/query.py\u001b[0m in \u001b[0;36mnames_to_path\u001b[0;34m(self, names, opts, allow_many, fail_on_missing)\u001b[0m\n\u001b[1;32m   1353\u001b[0m                 \u001b[0;31m# model (like a GenericForeignKey) cannot generate reverse\u001b[0m\u001b[0;34m\u001b[0m\u001b[0;34m\u001b[0m\u001b[0m\n\u001b[1;32m   1354\u001b[0m                 \u001b[0;31m# relations and therefore cannot be used for reverse querying.\u001b[0m\u001b[0;34m\u001b[0m\u001b[0;34m\u001b[0m\u001b[0m\n\u001b[0;32m-> 1355\u001b[0;31m                 \u001b[0;32mif\u001b[0m \u001b[0mfield\u001b[0m\u001b[0;34m.\u001b[0m\u001b[0mis_relation\u001b[0m \u001b[0;32mand\u001b[0m \u001b[0;32mnot\u001b[0m \u001b[0mfield\u001b[0m\u001b[0;34m.\u001b[0m\u001b[0mrelated_model\u001b[0m\u001b[0;34m:\u001b[0m\u001b[0;34m\u001b[0m\u001b[0m\n\u001b[0m\u001b[1;32m   1356\u001b[0m                     raise FieldError(\n\u001b[1;32m   1357\u001b[0m                         \u001b[0;34m\"Field %r does not generate an automatic reverse \"\u001b[0m\u001b[0;34m\u001b[0m\u001b[0m\n",
      "\u001b[0;32m~/Escritorio/dev/dev17/venv/lib/python3.6/site-packages/django/utils/functional.py\u001b[0m in \u001b[0;36m__get__\u001b[0;34m(self, instance, cls)\u001b[0m\n\u001b[1;32m     34\u001b[0m         \u001b[0;32mif\u001b[0m \u001b[0minstance\u001b[0m \u001b[0;32mis\u001b[0m \u001b[0;32mNone\u001b[0m\u001b[0;34m:\u001b[0m\u001b[0;34m\u001b[0m\u001b[0m\n\u001b[1;32m     35\u001b[0m             \u001b[0;32mreturn\u001b[0m \u001b[0mself\u001b[0m\u001b[0;34m\u001b[0m\u001b[0m\n\u001b[0;32m---> 36\u001b[0;31m         \u001b[0mres\u001b[0m \u001b[0;34m=\u001b[0m \u001b[0minstance\u001b[0m\u001b[0;34m.\u001b[0m\u001b[0m__dict__\u001b[0m\u001b[0;34m[\u001b[0m\u001b[0mself\u001b[0m\u001b[0;34m.\u001b[0m\u001b[0mname\u001b[0m\u001b[0;34m]\u001b[0m \u001b[0;34m=\u001b[0m \u001b[0mself\u001b[0m\u001b[0;34m.\u001b[0m\u001b[0mfunc\u001b[0m\u001b[0;34m(\u001b[0m\u001b[0minstance\u001b[0m\u001b[0;34m)\u001b[0m\u001b[0;34m\u001b[0m\u001b[0m\n\u001b[0m\u001b[1;32m     37\u001b[0m         \u001b[0;32mreturn\u001b[0m \u001b[0mres\u001b[0m\u001b[0;34m\u001b[0m\u001b[0m\n\u001b[1;32m     38\u001b[0m \u001b[0;34m\u001b[0m\u001b[0m\n",
      "\u001b[0;32m~/Escritorio/dev/dev17/venv/lib/python3.6/site-packages/django/db/models/fields/related.py\u001b[0m in \u001b[0;36mrelated_model\u001b[0;34m(self)\u001b[0m\n\u001b[1;32m     92\u001b[0m     \u001b[0;32mdef\u001b[0m \u001b[0mrelated_model\u001b[0m\u001b[0;34m(\u001b[0m\u001b[0mself\u001b[0m\u001b[0;34m)\u001b[0m\u001b[0;34m:\u001b[0m\u001b[0;34m\u001b[0m\u001b[0m\n\u001b[1;32m     93\u001b[0m         \u001b[0;31m# Can't cache this property until all the models are loaded.\u001b[0m\u001b[0;34m\u001b[0m\u001b[0;34m\u001b[0m\u001b[0m\n\u001b[0;32m---> 94\u001b[0;31m         \u001b[0mapps\u001b[0m\u001b[0;34m.\u001b[0m\u001b[0mcheck_models_ready\u001b[0m\u001b[0;34m(\u001b[0m\u001b[0;34m)\u001b[0m\u001b[0;34m\u001b[0m\u001b[0m\n\u001b[0m\u001b[1;32m     95\u001b[0m         \u001b[0;32mreturn\u001b[0m \u001b[0mself\u001b[0m\u001b[0;34m.\u001b[0m\u001b[0mremote_field\u001b[0m\u001b[0;34m.\u001b[0m\u001b[0mmodel\u001b[0m\u001b[0;34m\u001b[0m\u001b[0m\n\u001b[1;32m     96\u001b[0m \u001b[0;34m\u001b[0m\u001b[0m\n",
      "\u001b[0;32m~/Escritorio/dev/dev17/venv/lib/python3.6/site-packages/django/apps/registry.py\u001b[0m in \u001b[0;36mcheck_models_ready\u001b[0;34m(self)\u001b[0m\n\u001b[1;32m    130\u001b[0m         \u001b[0;34m\"\"\"Raise an exception if all models haven't been imported yet.\"\"\"\u001b[0m\u001b[0;34m\u001b[0m\u001b[0m\n\u001b[1;32m    131\u001b[0m         \u001b[0;32mif\u001b[0m \u001b[0;32mnot\u001b[0m \u001b[0mself\u001b[0m\u001b[0;34m.\u001b[0m\u001b[0mmodels_ready\u001b[0m\u001b[0;34m:\u001b[0m\u001b[0;34m\u001b[0m\u001b[0m\n\u001b[0;32m--> 132\u001b[0;31m             \u001b[0;32mraise\u001b[0m \u001b[0mAppRegistryNotReady\u001b[0m\u001b[0;34m(\u001b[0m\u001b[0;34m\"Models aren't loaded yet.\"\u001b[0m\u001b[0;34m)\u001b[0m\u001b[0;34m\u001b[0m\u001b[0m\n\u001b[0m\u001b[1;32m    133\u001b[0m \u001b[0;34m\u001b[0m\u001b[0m\n\u001b[1;32m    134\u001b[0m     \u001b[0;32mdef\u001b[0m \u001b[0mget_app_configs\u001b[0m\u001b[0;34m(\u001b[0m\u001b[0mself\u001b[0m\u001b[0;34m)\u001b[0m\u001b[0;34m:\u001b[0m\u001b[0;34m\u001b[0m\u001b[0m\n",
      "\u001b[0;31mAppRegistryNotReady\u001b[0m: Models aren't loaded yet."
     ]
    }
   ],
   "source": [
    "q.choice_set.all()"
   ]
  },
  {
   "cell_type": "code",
   "execution_count": 70,
   "metadata": {},
   "outputs": [
    {
     "data": {
      "text/plain": [
       "<bound method BaseManager._get_queryset_methods.<locals>.create_method.<locals>.manager_method of <django.db.models.fields.related_descriptors.create_reverse_many_to_one_manager.<locals>.RelatedManager object at 0x7f64e7163cf8>>"
      ]
     },
     "execution_count": 70,
     "metadata": {},
     "output_type": "execute_result"
    }
   ],
   "source": [
    "q.choice_set.first"
   ]
  },
  {
   "cell_type": "code",
   "execution_count": 68,
   "metadata": {},
   "outputs": [
    {
     "name": "stdout",
     "output_type": "stream",
     "text": [
      "Help on RelatedManager in module django.db.models.fields.related_descriptors object:\n",
      "\n",
      "class RelatedManager(django.db.models.manager.Manager)\n",
      " |  Method resolution order:\n",
      " |      RelatedManager\n",
      " |      django.db.models.manager.Manager\n",
      " |      django.db.models.manager.BaseManagerFromQuerySet\n",
      " |      django.db.models.manager.BaseManager\n",
      " |      builtins.object\n",
      " |  \n",
      " |  Methods defined here:\n",
      " |  \n",
      " |  __call__(self, *, manager)\n",
      " |  \n",
      " |  __init__(self, instance)\n",
      " |  \n",
      " |  add(self, *objs, bulk=True)\n",
      " |  \n",
      " |  create(self, **kwargs)\n",
      " |  \n",
      " |  get_or_create(self, **kwargs)\n",
      " |  \n",
      " |  get_prefetch_queryset(self, instances, queryset=None)\n",
      " |  \n",
      " |  get_queryset(self)\n",
      " |  \n",
      " |  set(self, objs, *, bulk=True, clear=False)\n",
      " |  \n",
      " |  update_or_create(self, **kwargs)\n",
      " |  \n",
      " |  ----------------------------------------------------------------------\n",
      " |  Data and other attributes defined here:\n",
      " |  \n",
      " |  do_not_call_in_templates = True\n",
      " |  \n",
      " |  ----------------------------------------------------------------------\n",
      " |  Data and other attributes inherited from django.db.models.manager.Manager:\n",
      " |  \n",
      " |  __slotnames__ = []\n",
      " |  \n",
      " |  ----------------------------------------------------------------------\n",
      " |  Methods inherited from django.db.models.manager.BaseManagerFromQuerySet:\n",
      " |  \n",
      " |  aggregate(self, *args, **kwargs)\n",
      " |      Return a dictionary containing the calculations (aggregation)\n",
      " |      over the current queryset.\n",
      " |      \n",
      " |      If args is present the expression is passed as a kwarg using\n",
      " |      the Aggregate object's default alias.\n",
      " |  \n",
      " |  annotate(self, *args, **kwargs)\n",
      " |      Return a query set in which the returned objects have been annotated\n",
      " |      with extra data or aggregations.\n",
      " |  \n",
      " |  bulk_create(self, *args, **kwargs)\n",
      " |      Insert each of the instances into the database. Do *not* call\n",
      " |      save() on each of the instances, do not send any pre/post_save\n",
      " |      signals, and do not set the primary key attribute if it is an\n",
      " |      autoincrement field (except if features.can_return_ids_from_bulk_insert=True).\n",
      " |      Multi-table models are not supported.\n",
      " |  \n",
      " |  complex_filter(self, *args, **kwargs)\n",
      " |      Return a new QuerySet instance with filter_obj added to the filters.\n",
      " |      \n",
      " |      filter_obj can be a Q object or a dictionary of keyword lookup\n",
      " |      arguments.\n",
      " |      \n",
      " |      This exists to support framework features such as 'limit_choices_to',\n",
      " |      and usually it will be more natural to use other methods.\n",
      " |  \n",
      " |  count(self, *args, **kwargs)\n",
      " |      Perform a SELECT COUNT() and return the number of records as an\n",
      " |      integer.\n",
      " |      \n",
      " |      If the QuerySet is already fully cached, return the length of the\n",
      " |      cached results set to avoid multiple SELECT COUNT(*) calls.\n",
      " |  \n",
      " |  dates(self, *args, **kwargs)\n",
      " |      Return a list of date objects representing all available dates for\n",
      " |      the given field_name, scoped to 'kind'.\n",
      " |  \n",
      " |  datetimes(self, *args, **kwargs)\n",
      " |      Return a list of datetime objects representing all available\n",
      " |      datetimes for the given field_name, scoped to 'kind'.\n",
      " |  \n",
      " |  defer(self, *args, **kwargs)\n",
      " |      Defer the loading of data for certain fields until they are accessed.\n",
      " |      Add the set of deferred fields to any existing set of deferred fields.\n",
      " |      The only exception to this is if None is passed in as the only\n",
      " |      parameter, in which case removal all deferrals.\n",
      " |  \n",
      " |  difference(self, *args, **kwargs)\n",
      " |  \n",
      " |  distinct(self, *args, **kwargs)\n",
      " |      Return a new QuerySet instance that will select only distinct results.\n",
      " |  \n",
      " |  earliest(self, *args, **kwargs)\n",
      " |  \n",
      " |  exclude(self, *args, **kwargs)\n",
      " |      Return a new QuerySet instance with NOT (args) ANDed to the existing\n",
      " |      set.\n",
      " |  \n",
      " |  exists(self, *args, **kwargs)\n",
      " |  \n",
      " |  extra(self, *args, **kwargs)\n",
      " |      Add extra SQL fragments to the query.\n",
      " |  \n",
      " |  filter(self, *args, **kwargs)\n",
      " |      Return a new QuerySet instance with the args ANDed to the existing\n",
      " |      set.\n",
      " |  \n",
      " |  first(self, *args, **kwargs)\n",
      " |      Return the first object of a query or None if no match is found.\n",
      " |  \n",
      " |  get(self, *args, **kwargs)\n",
      " |      Perform the query and return a single object matching the given\n",
      " |      keyword arguments.\n",
      " |  \n",
      " |  in_bulk(self, *args, **kwargs)\n",
      " |      Return a dictionary mapping each of the given IDs to the object with\n",
      " |      that ID. If `id_list` isn't provided, evaluate the entire QuerySet.\n",
      " |  \n",
      " |  intersection(self, *args, **kwargs)\n",
      " |  \n",
      " |  iterator(self, *args, **kwargs)\n",
      " |      An iterator over the results from applying this QuerySet to the\n",
      " |      database.\n",
      " |  \n",
      " |  last(self, *args, **kwargs)\n",
      " |      Return the last object of a query or None if no match is found.\n",
      " |  \n",
      " |  latest(self, *args, **kwargs)\n",
      " |  \n",
      " |  none(self, *args, **kwargs)\n",
      " |      Return an empty QuerySet.\n",
      " |  \n",
      " |  only(self, *args, **kwargs)\n",
      " |      Essentially, the opposite of defer(). Only the fields passed into this\n",
      " |      method and that are not already specified as deferred are loaded\n",
      " |      immediately when the queryset is evaluated.\n",
      " |  \n",
      " |  order_by(self, *args, **kwargs)\n",
      " |      Return a new QuerySet instance with the ordering changed.\n",
      " |  \n",
      " |  prefetch_related(self, *args, **kwargs)\n",
      " |      Return a new QuerySet instance that will prefetch the specified\n",
      " |      Many-To-One and Many-To-Many related objects when the QuerySet is\n",
      " |      evaluated.\n",
      " |      \n",
      " |      When prefetch_related() is called more than once, append to the list of\n",
      " |      prefetch lookups. If prefetch_related(None) is called, clear the list.\n",
      " |  \n",
      " |  raw(self, *args, **kwargs)\n",
      " |  \n",
      " |  reverse(self, *args, **kwargs)\n",
      " |      Reverse the ordering of the QuerySet.\n",
      " |  \n",
      " |  select_for_update(self, *args, **kwargs)\n",
      " |      Return a new QuerySet instance that will select objects with a\n",
      " |      FOR UPDATE lock.\n",
      " |  \n",
      " |  select_related(self, *args, **kwargs)\n",
      " |      Return a new QuerySet instance that will select related objects.\n",
      " |      \n",
      " |      If fields are specified, they must be ForeignKey fields and only those\n",
      " |      related objects are included in the selection.\n",
      " |      \n",
      " |      If select_related(None) is called, clear the list.\n",
      " |  \n",
      " |  union(self, *args, **kwargs)\n",
      " |  \n",
      " |  update(self, *args, **kwargs)\n",
      " |      Update all elements in the current QuerySet, setting all the given\n",
      " |      fields to the appropriate values.\n",
      " |  \n",
      " |  using(self, *args, **kwargs)\n",
      " |      Select which database this QuerySet should execute against.\n",
      " |  \n",
      " |  values(self, *args, **kwargs)\n",
      " |  \n",
      " |  values_list(self, *args, **kwargs)\n",
      " |  \n",
      " |  ----------------------------------------------------------------------\n",
      " |  Methods inherited from django.db.models.manager.BaseManager:\n",
      " |  \n",
      " |  __eq__(self, other)\n",
      " |      Return self==value.\n",
      " |  \n",
      " |  __hash__(self)\n",
      " |      Return hash(self).\n",
      " |  \n",
      " |  __str__(self)\n",
      " |      Return \"app_label.model_label.manager_name\".\n",
      " |  \n",
      " |  all(self)\n",
      " |  \n",
      " |  check(self, **kwargs)\n",
      " |  \n",
      " |  contribute_to_class(self, model, name)\n",
      " |  \n",
      " |  db_manager(self, using=None, hints=None)\n",
      " |  \n",
      " |  deconstruct(self)\n",
      " |      Return a 5-tuple of the form (as_manager (True), manager_class,\n",
      " |      queryset_class, args, kwargs).\n",
      " |      \n",
      " |      Raise a ValueError if the manager is dynamically generated.\n",
      " |  \n",
      " |  ----------------------------------------------------------------------\n",
      " |  Class methods inherited from django.db.models.manager.BaseManager:\n",
      " |  \n",
      " |  from_queryset(queryset_class, class_name=None) from builtins.type\n",
      " |  \n",
      " |  ----------------------------------------------------------------------\n",
      " |  Static methods inherited from django.db.models.manager.BaseManager:\n",
      " |  \n",
      " |  __new__(cls, *args, **kwargs)\n",
      " |      Create and return a new object.  See help(type) for accurate signature.\n",
      " |  \n",
      " |  ----------------------------------------------------------------------\n",
      " |  Data descriptors inherited from django.db.models.manager.BaseManager:\n",
      " |  \n",
      " |  __dict__\n",
      " |      dictionary for instance variables (if defined)\n",
      " |  \n",
      " |  __weakref__\n",
      " |      list of weak references to the object (if defined)\n",
      " |  \n",
      " |  db\n",
      " |  \n",
      " |  ----------------------------------------------------------------------\n",
      " |  Data and other attributes inherited from django.db.models.manager.BaseManager:\n",
      " |  \n",
      " |  auto_created = False\n",
      " |  \n",
      " |  creation_counter = 48\n",
      " |  \n",
      " |  use_in_migrations = False\n",
      "\n"
     ]
    }
   ],
   "source": [
    "help(q.choice_set)"
   ]
  },
  {
   "cell_type": "code",
   "execution_count": 80,
   "metadata": {
    "scrolled": true
   },
   "outputs": [
    {
     "data": {
      "text/plain": [
       "<Choice: Hi>"
      ]
     },
     "execution_count": 80,
     "metadata": {},
     "output_type": "execute_result"
    }
   ],
   "source": [
    "q.choice_set.create(choice_text='Not much', votes=1)"
   ]
  },
  {
   "cell_type": "code",
   "execution_count": 81,
   "metadata": {},
   "outputs": [
    {
     "data": {
      "text/plain": [
       "<Choice: How Are You?>"
      ]
     },
     "execution_count": 81,
     "metadata": {},
     "output_type": "execute_result"
    }
   ],
   "source": [
    "q.choice_set.create(choice_text='The sky', votes=1)"
   ]
  },
  {
   "cell_type": "code",
   "execution_count": 82,
   "metadata": {},
   "outputs": [],
   "source": [
    "c = q.choice_set.create(choice_text='Just hacking again', votes=0)"
   ]
  },
  {
   "cell_type": "code",
   "execution_count": 56,
   "metadata": {},
   "outputs": [
    {
     "ename": "NameError",
     "evalue": "name 'c' is not defined",
     "output_type": "error",
     "traceback": [
      "\u001b[0;31m---------------------------------------------------------------------------\u001b[0m",
      "\u001b[0;31mNameError\u001b[0m                                 Traceback (most recent call last)",
      "\u001b[0;32m<ipython-input-56-1b77f6916f78>\u001b[0m in \u001b[0;36m<module>\u001b[0;34m()\u001b[0m\n\u001b[0;32m----> 1\u001b[0;31m \u001b[0mc\u001b[0m\u001b[0;34m.\u001b[0m\u001b[0mquestion\u001b[0m\u001b[0;34m\u001b[0m\u001b[0m\n\u001b[0m",
      "\u001b[0;31mNameError\u001b[0m: name 'c' is not defined"
     ]
    }
   ],
   "source": [
    "c.question"
   ]
  },
  {
   "cell_type": "code",
   "execution_count": 84,
   "metadata": {},
   "outputs": [
    {
     "data": {
      "text/plain": [
       "<QuerySet [<Choice: Hi>, <Choice: How Are You?>, <Choice: Nice to meet you!>]>"
      ]
     },
     "execution_count": 84,
     "metadata": {},
     "output_type": "execute_result"
    }
   ],
   "source": [
    "q.choice_set.all()"
   ]
  },
  {
   "cell_type": "code",
   "execution_count": 85,
   "metadata": {},
   "outputs": [
    {
     "data": {
      "text/plain": [
       "3"
      ]
     },
     "execution_count": 85,
     "metadata": {},
     "output_type": "execute_result"
    }
   ],
   "source": [
    "q.choice_set.count()"
   ]
  },
  {
   "cell_type": "code",
   "execution_count": 86,
   "metadata": {},
   "outputs": [
    {
     "data": {
      "text/plain": [
       "<QuerySet [<Choice: The sky>, <Choice: Not much>, <Choice: Just hacking again>, <Choice: Hi>, <Choice: How Are You?>, <Choice: Nice to meet you!>]>"
      ]
     },
     "execution_count": 86,
     "metadata": {},
     "output_type": "execute_result"
    }
   ],
   "source": [
    "Choice.objects.filter(question__pub_date__year=current_year)"
   ]
  },
  {
   "cell_type": "code",
   "execution_count": 54,
   "metadata": {},
   "outputs": [
    {
     "ename": "NameError",
     "evalue": "name 'q' is not defined",
     "output_type": "error",
     "traceback": [
      "\u001b[0;31m---------------------------------------------------------------------------\u001b[0m",
      "\u001b[0;31mNameError\u001b[0m                                 Traceback (most recent call last)",
      "\u001b[0;32m<ipython-input-54-cdb6ea8ddc4a>\u001b[0m in \u001b[0;36m<module>\u001b[0;34m()\u001b[0m\n\u001b[0;32m----> 1\u001b[0;31m \u001b[0mc\u001b[0m \u001b[0;34m=\u001b[0m \u001b[0mq\u001b[0m\u001b[0;34m.\u001b[0m\u001b[0mchoice_set\u001b[0m\u001b[0;34m.\u001b[0m\u001b[0mfilter\u001b[0m\u001b[0;34m(\u001b[0m\u001b[0mchoice_text__startswith\u001b[0m\u001b[0;34m=\u001b[0m\u001b[0;34m'Just hacking'\u001b[0m\u001b[0;34m)\u001b[0m\u001b[0;34m\u001b[0m\u001b[0m\n\u001b[0m",
      "\u001b[0;31mNameError\u001b[0m: name 'q' is not defined"
     ]
    }
   ],
   "source": [
    "c = q.choice_set.filter(choice_text__startswith='Just hacking')"
   ]
  },
  {
   "cell_type": "code",
   "execution_count": 34,
   "metadata": {},
   "outputs": [
    {
     "data": {
      "text/plain": [
       "<QuerySet [<Choice: Just hacking again>]>"
      ]
     },
     "execution_count": 34,
     "metadata": {},
     "output_type": "execute_result"
    }
   ],
   "source": [
    "c"
   ]
  },
  {
   "cell_type": "code",
   "execution_count": 38,
   "metadata": {},
   "outputs": [],
   "source": [
    "c = q.choice_set.filter(votes=1)"
   ]
  },
  {
   "cell_type": "code",
   "execution_count": 39,
   "metadata": {},
   "outputs": [
    {
     "data": {
      "text/plain": [
       "<QuerySet [<Choice: Not much>, <Choice: Just hacking again>]>"
      ]
     },
     "execution_count": 39,
     "metadata": {},
     "output_type": "execute_result"
    }
   ],
   "source": [
    "c"
   ]
  },
  {
   "cell_type": "code",
   "execution_count": null,
   "metadata": {},
   "outputs": [],
   "source": []
  },
  {
   "cell_type": "code",
   "execution_count": null,
   "metadata": {},
   "outputs": [],
   "source": []
  },
  {
   "cell_type": "code",
   "execution_count": 40,
   "metadata": {},
   "outputs": [
    {
     "data": {
      "text/plain": [
       "(2, {'polls.Choice': 2})"
      ]
     },
     "execution_count": 40,
     "metadata": {},
     "output_type": "execute_result"
    }
   ],
   "source": [
    "c.delete()"
   ]
  },
  {
   "cell_type": "markdown",
   "metadata": {},
   "source": [
    "# 3 - Step"
   ]
  },
  {
   "cell_type": "code",
   "execution_count": 41,
   "metadata": {},
   "outputs": [],
   "source": [
    "# Crear Super Usuario\n",
    "from django.contrib.auth.models import User\n",
    "admin = User.objects.create_superuser(username='admin', email='admin@admin.com' ,password='yurleysanchez')\n",
    "usuario = User.objects.create_user(username='admin0',email='admin0@admin.com',  password='yurleysanchez', is_superuser=\"True\" , is_staff='True')\n",
    "usuario = User.objects.create_user(username='admin1', password='yurleysanchez', is_staff='True')\n",
    "\n",
    "usuario = User.objects.create_user(username='admin2', password='yurleysanchez')\n",
    "usuario = User.objects.create_user(username='admin3', password='yurleysanchez')\n",
    "usuario = User.objects.create_user(username='admin4', password='yurleysanchez')"
   ]
  },
  {
   "cell_type": "markdown",
   "metadata": {},
   "source": [
    "# 4 - step"
   ]
  },
  {
   "cell_type": "code",
   "execution_count": 11,
   "metadata": {},
   "outputs": [],
   "source": [
    "latest_question_list = Question.objects.order_by('-pub_date')[:5]"
   ]
  },
  {
   "cell_type": "code",
   "execution_count": 12,
   "metadata": {},
   "outputs": [
    {
     "data": {
      "text/plain": [
       "<QuerySet [<Question: Hello?>, <Question: What's up?>]>"
      ]
     },
     "execution_count": 12,
     "metadata": {},
     "output_type": "execute_result"
    }
   ],
   "source": [
    "latest_question_list"
   ]
  },
  {
   "cell_type": "code",
   "execution_count": 13,
   "metadata": {},
   "outputs": [
    {
     "name": "stdout",
     "output_type": "stream",
     "text": [
      "Hello?\n",
      "<QuerySet [<Choice: Hi>, <Choice: Nice to meet you!>]>\n",
      "What's up?\n",
      "<QuerySet []>\n"
     ]
    }
   ],
   "source": [
    "for i in latest_question_list:\n",
    "    print (i)\n",
    "    print (i.choice_set.filter(votes=1))"
   ]
  },
  {
   "cell_type": "code",
   "execution_count": 14,
   "metadata": {},
   "outputs": [
    {
     "name": "stdout",
     "output_type": "stream",
     "text": [
      "Hello?\n",
      "<QuerySet [<Choice: Hi>, <Choice: How Are You?>]>\n",
      "What's up?\n",
      "<QuerySet []>\n"
     ]
    }
   ],
   "source": [
    "for i in latest_question_list:\n",
    "    print (i)\n",
    "    print (i.choice_set.filter(choice_text__startswith='H'))"
   ]
  },
  {
   "cell_type": "code",
   "execution_count": 15,
   "metadata": {},
   "outputs": [
    {
     "data": {
      "text/plain": [
       "<QuerySet []>"
      ]
     },
     "execution_count": 15,
     "metadata": {},
     "output_type": "execute_result"
    }
   ],
   "source": [
    "i.choice_set.filter(votes=1)"
   ]
  },
  {
   "cell_type": "code",
   "execution_count": 20,
   "metadata": {
    "collapsed": true
   },
   "outputs": [
    {
     "ename": "AppRegistryNotReady",
     "evalue": "Models aren't loaded yet.",
     "output_type": "error",
     "traceback": [
      "\u001b[0;31m---------------------------------------------------------------------------\u001b[0m",
      "\u001b[0;31mAttributeError\u001b[0m                            Traceback (most recent call last)",
      "\u001b[0;32m~/Escritorio/dev/dev17/venv/lib/python3.6/site-packages/django/db/models/fields/related_descriptors.py\u001b[0m in \u001b[0;36mget_queryset\u001b[0;34m(self)\u001b[0m\n\u001b[1;32m    561\u001b[0m             \u001b[0;32mtry\u001b[0m\u001b[0;34m:\u001b[0m\u001b[0;34m\u001b[0m\u001b[0m\n\u001b[0;32m--> 562\u001b[0;31m                 \u001b[0;32mreturn\u001b[0m \u001b[0mself\u001b[0m\u001b[0;34m.\u001b[0m\u001b[0minstance\u001b[0m\u001b[0;34m.\u001b[0m\u001b[0m_prefetched_objects_cache\u001b[0m\u001b[0;34m[\u001b[0m\u001b[0mself\u001b[0m\u001b[0;34m.\u001b[0m\u001b[0mfield\u001b[0m\u001b[0;34m.\u001b[0m\u001b[0mrelated_query_name\u001b[0m\u001b[0;34m(\u001b[0m\u001b[0;34m)\u001b[0m\u001b[0;34m]\u001b[0m\u001b[0;34m\u001b[0m\u001b[0m\n\u001b[0m\u001b[1;32m    563\u001b[0m             \u001b[0;32mexcept\u001b[0m \u001b[0;34m(\u001b[0m\u001b[0mAttributeError\u001b[0m\u001b[0;34m,\u001b[0m \u001b[0mKeyError\u001b[0m\u001b[0;34m)\u001b[0m\u001b[0;34m:\u001b[0m\u001b[0;34m\u001b[0m\u001b[0m\n",
      "\u001b[0;31mAttributeError\u001b[0m: 'Question' object has no attribute '_prefetched_objects_cache'",
      "\nDuring handling of the above exception, another exception occurred:\n",
      "\u001b[0;31mAppRegistryNotReady\u001b[0m                       Traceback (most recent call last)",
      "\u001b[0;32m<ipython-input-20-8fc3896660b7>\u001b[0m in \u001b[0;36m<module>\u001b[0;34m()\u001b[0m\n\u001b[0;32m----> 1\u001b[0;31m \u001b[0mi\u001b[0m\u001b[0;34m.\u001b[0m\u001b[0mchoice_set\u001b[0m\u001b[0;34m.\u001b[0m\u001b[0mfilter\u001b[0m\u001b[0;34m(\u001b[0m\u001b[0mvotes\u001b[0m\u001b[0;34m=\u001b[0m\u001b[0;36m1\u001b[0m\u001b[0;34m)\u001b[0m\u001b[0;34m\u001b[0m\u001b[0m\n\u001b[0m",
      "\u001b[0;32m~/Escritorio/dev/dev17/venv/lib/python3.6/site-packages/django/db/models/manager.py\u001b[0m in \u001b[0;36mmanager_method\u001b[0;34m(self, *args, **kwargs)\u001b[0m\n\u001b[1;32m     80\u001b[0m         \u001b[0;32mdef\u001b[0m \u001b[0mcreate_method\u001b[0m\u001b[0;34m(\u001b[0m\u001b[0mname\u001b[0m\u001b[0;34m,\u001b[0m \u001b[0mmethod\u001b[0m\u001b[0;34m)\u001b[0m\u001b[0;34m:\u001b[0m\u001b[0;34m\u001b[0m\u001b[0m\n\u001b[1;32m     81\u001b[0m             \u001b[0;32mdef\u001b[0m \u001b[0mmanager_method\u001b[0m\u001b[0;34m(\u001b[0m\u001b[0mself\u001b[0m\u001b[0;34m,\u001b[0m \u001b[0;34m*\u001b[0m\u001b[0margs\u001b[0m\u001b[0;34m,\u001b[0m \u001b[0;34m**\u001b[0m\u001b[0mkwargs\u001b[0m\u001b[0;34m)\u001b[0m\u001b[0;34m:\u001b[0m\u001b[0;34m\u001b[0m\u001b[0m\n\u001b[0;32m---> 82\u001b[0;31m                 \u001b[0;32mreturn\u001b[0m \u001b[0mgetattr\u001b[0m\u001b[0;34m(\u001b[0m\u001b[0mself\u001b[0m\u001b[0;34m.\u001b[0m\u001b[0mget_queryset\u001b[0m\u001b[0;34m(\u001b[0m\u001b[0;34m)\u001b[0m\u001b[0;34m,\u001b[0m \u001b[0mname\u001b[0m\u001b[0;34m)\u001b[0m\u001b[0;34m(\u001b[0m\u001b[0;34m*\u001b[0m\u001b[0margs\u001b[0m\u001b[0;34m,\u001b[0m \u001b[0;34m**\u001b[0m\u001b[0mkwargs\u001b[0m\u001b[0;34m)\u001b[0m\u001b[0;34m\u001b[0m\u001b[0m\n\u001b[0m\u001b[1;32m     83\u001b[0m             \u001b[0mmanager_method\u001b[0m\u001b[0;34m.\u001b[0m\u001b[0m__name__\u001b[0m \u001b[0;34m=\u001b[0m \u001b[0mmethod\u001b[0m\u001b[0;34m.\u001b[0m\u001b[0m__name__\u001b[0m\u001b[0;34m\u001b[0m\u001b[0m\n\u001b[1;32m     84\u001b[0m             \u001b[0mmanager_method\u001b[0m\u001b[0;34m.\u001b[0m\u001b[0m__doc__\u001b[0m \u001b[0;34m=\u001b[0m \u001b[0mmethod\u001b[0m\u001b[0;34m.\u001b[0m\u001b[0m__doc__\u001b[0m\u001b[0;34m\u001b[0m\u001b[0m\n",
      "\u001b[0;32m~/Escritorio/dev/dev17/venv/lib/python3.6/site-packages/django/db/models/fields/related_descriptors.py\u001b[0m in \u001b[0;36mget_queryset\u001b[0;34m(self)\u001b[0m\n\u001b[1;32m    563\u001b[0m             \u001b[0;32mexcept\u001b[0m \u001b[0;34m(\u001b[0m\u001b[0mAttributeError\u001b[0m\u001b[0;34m,\u001b[0m \u001b[0mKeyError\u001b[0m\u001b[0;34m)\u001b[0m\u001b[0;34m:\u001b[0m\u001b[0;34m\u001b[0m\u001b[0m\n\u001b[1;32m    564\u001b[0m                 \u001b[0mqueryset\u001b[0m \u001b[0;34m=\u001b[0m \u001b[0msuper\u001b[0m\u001b[0;34m(\u001b[0m\u001b[0;34m)\u001b[0m\u001b[0;34m.\u001b[0m\u001b[0mget_queryset\u001b[0m\u001b[0;34m(\u001b[0m\u001b[0;34m)\u001b[0m\u001b[0;34m\u001b[0m\u001b[0m\n\u001b[0;32m--> 565\u001b[0;31m                 \u001b[0;32mreturn\u001b[0m \u001b[0mself\u001b[0m\u001b[0;34m.\u001b[0m\u001b[0m_apply_rel_filters\u001b[0m\u001b[0;34m(\u001b[0m\u001b[0mqueryset\u001b[0m\u001b[0;34m)\u001b[0m\u001b[0;34m\u001b[0m\u001b[0m\n\u001b[0m\u001b[1;32m    566\u001b[0m \u001b[0;34m\u001b[0m\u001b[0m\n\u001b[1;32m    567\u001b[0m         \u001b[0;32mdef\u001b[0m \u001b[0mget_prefetch_queryset\u001b[0m\u001b[0;34m(\u001b[0m\u001b[0mself\u001b[0m\u001b[0;34m,\u001b[0m \u001b[0minstances\u001b[0m\u001b[0;34m,\u001b[0m \u001b[0mqueryset\u001b[0m\u001b[0;34m=\u001b[0m\u001b[0;32mNone\u001b[0m\u001b[0;34m)\u001b[0m\u001b[0;34m:\u001b[0m\u001b[0;34m\u001b[0m\u001b[0m\n",
      "\u001b[0;32m~/Escritorio/dev/dev17/venv/lib/python3.6/site-packages/django/db/models/fields/related_descriptors.py\u001b[0m in \u001b[0;36m_apply_rel_filters\u001b[0;34m(self, queryset)\u001b[0m\n\u001b[1;32m    544\u001b[0m             \u001b[0;32mif\u001b[0m \u001b[0mself\u001b[0m\u001b[0;34m.\u001b[0m\u001b[0m_db\u001b[0m\u001b[0;34m:\u001b[0m\u001b[0;34m\u001b[0m\u001b[0m\n\u001b[1;32m    545\u001b[0m                 \u001b[0mqueryset\u001b[0m \u001b[0;34m=\u001b[0m \u001b[0mqueryset\u001b[0m\u001b[0;34m.\u001b[0m\u001b[0musing\u001b[0m\u001b[0;34m(\u001b[0m\u001b[0mself\u001b[0m\u001b[0;34m.\u001b[0m\u001b[0m_db\u001b[0m\u001b[0;34m)\u001b[0m\u001b[0;34m\u001b[0m\u001b[0m\n\u001b[0;32m--> 546\u001b[0;31m             \u001b[0mqueryset\u001b[0m \u001b[0;34m=\u001b[0m \u001b[0mqueryset\u001b[0m\u001b[0;34m.\u001b[0m\u001b[0mfilter\u001b[0m\u001b[0;34m(\u001b[0m\u001b[0;34m**\u001b[0m\u001b[0mself\u001b[0m\u001b[0;34m.\u001b[0m\u001b[0mcore_filters\u001b[0m\u001b[0;34m)\u001b[0m\u001b[0;34m\u001b[0m\u001b[0m\n\u001b[0m\u001b[1;32m    547\u001b[0m             \u001b[0;32mfor\u001b[0m \u001b[0mfield\u001b[0m \u001b[0;32min\u001b[0m \u001b[0mself\u001b[0m\u001b[0;34m.\u001b[0m\u001b[0mfield\u001b[0m\u001b[0;34m.\u001b[0m\u001b[0mforeign_related_fields\u001b[0m\u001b[0;34m:\u001b[0m\u001b[0;34m\u001b[0m\u001b[0m\n\u001b[1;32m    548\u001b[0m                 \u001b[0mval\u001b[0m \u001b[0;34m=\u001b[0m \u001b[0mgetattr\u001b[0m\u001b[0;34m(\u001b[0m\u001b[0mself\u001b[0m\u001b[0;34m.\u001b[0m\u001b[0minstance\u001b[0m\u001b[0;34m,\u001b[0m \u001b[0mfield\u001b[0m\u001b[0;34m.\u001b[0m\u001b[0mattname\u001b[0m\u001b[0;34m)\u001b[0m\u001b[0;34m\u001b[0m\u001b[0m\n",
      "\u001b[0;32m~/Escritorio/dev/dev17/venv/lib/python3.6/site-packages/django/db/models/query.py\u001b[0m in \u001b[0;36mfilter\u001b[0;34m(self, *args, **kwargs)\u001b[0m\n\u001b[1;32m    834\u001b[0m         \u001b[0mset\u001b[0m\u001b[0;34m.\u001b[0m\u001b[0;34m\u001b[0m\u001b[0m\n\u001b[1;32m    835\u001b[0m         \"\"\"\n\u001b[0;32m--> 836\u001b[0;31m         \u001b[0;32mreturn\u001b[0m \u001b[0mself\u001b[0m\u001b[0;34m.\u001b[0m\u001b[0m_filter_or_exclude\u001b[0m\u001b[0;34m(\u001b[0m\u001b[0;32mFalse\u001b[0m\u001b[0;34m,\u001b[0m \u001b[0;34m*\u001b[0m\u001b[0margs\u001b[0m\u001b[0;34m,\u001b[0m \u001b[0;34m**\u001b[0m\u001b[0mkwargs\u001b[0m\u001b[0;34m)\u001b[0m\u001b[0;34m\u001b[0m\u001b[0m\n\u001b[0m\u001b[1;32m    837\u001b[0m \u001b[0;34m\u001b[0m\u001b[0m\n\u001b[1;32m    838\u001b[0m     \u001b[0;32mdef\u001b[0m \u001b[0mexclude\u001b[0m\u001b[0;34m(\u001b[0m\u001b[0mself\u001b[0m\u001b[0;34m,\u001b[0m \u001b[0;34m*\u001b[0m\u001b[0margs\u001b[0m\u001b[0;34m,\u001b[0m \u001b[0;34m**\u001b[0m\u001b[0mkwargs\u001b[0m\u001b[0;34m)\u001b[0m\u001b[0;34m:\u001b[0m\u001b[0;34m\u001b[0m\u001b[0m\n",
      "\u001b[0;32m~/Escritorio/dev/dev17/venv/lib/python3.6/site-packages/django/db/models/query.py\u001b[0m in \u001b[0;36m_filter_or_exclude\u001b[0;34m(self, negate, *args, **kwargs)\u001b[0m\n\u001b[1;32m    852\u001b[0m             \u001b[0mclone\u001b[0m\u001b[0;34m.\u001b[0m\u001b[0mquery\u001b[0m\u001b[0;34m.\u001b[0m\u001b[0madd_q\u001b[0m\u001b[0;34m(\u001b[0m\u001b[0;34m~\u001b[0m\u001b[0mQ\u001b[0m\u001b[0;34m(\u001b[0m\u001b[0;34m*\u001b[0m\u001b[0margs\u001b[0m\u001b[0;34m,\u001b[0m \u001b[0;34m**\u001b[0m\u001b[0mkwargs\u001b[0m\u001b[0;34m)\u001b[0m\u001b[0;34m)\u001b[0m\u001b[0;34m\u001b[0m\u001b[0m\n\u001b[1;32m    853\u001b[0m         \u001b[0;32melse\u001b[0m\u001b[0;34m:\u001b[0m\u001b[0;34m\u001b[0m\u001b[0m\n\u001b[0;32m--> 854\u001b[0;31m             \u001b[0mclone\u001b[0m\u001b[0;34m.\u001b[0m\u001b[0mquery\u001b[0m\u001b[0;34m.\u001b[0m\u001b[0madd_q\u001b[0m\u001b[0;34m(\u001b[0m\u001b[0mQ\u001b[0m\u001b[0;34m(\u001b[0m\u001b[0;34m*\u001b[0m\u001b[0margs\u001b[0m\u001b[0;34m,\u001b[0m \u001b[0;34m**\u001b[0m\u001b[0mkwargs\u001b[0m\u001b[0;34m)\u001b[0m\u001b[0;34m)\u001b[0m\u001b[0;34m\u001b[0m\u001b[0m\n\u001b[0m\u001b[1;32m    855\u001b[0m         \u001b[0;32mreturn\u001b[0m \u001b[0mclone\u001b[0m\u001b[0;34m\u001b[0m\u001b[0m\n\u001b[1;32m    856\u001b[0m \u001b[0;34m\u001b[0m\u001b[0m\n",
      "\u001b[0;32m~/Escritorio/dev/dev17/venv/lib/python3.6/site-packages/django/db/models/sql/query.py\u001b[0m in \u001b[0;36madd_q\u001b[0;34m(self, q_object)\u001b[0m\n\u001b[1;32m   1251\u001b[0m         \u001b[0;31m# So, demotion is OK.\u001b[0m\u001b[0;34m\u001b[0m\u001b[0;34m\u001b[0m\u001b[0m\n\u001b[1;32m   1252\u001b[0m         \u001b[0mexisting_inner\u001b[0m \u001b[0;34m=\u001b[0m \u001b[0;34m{\u001b[0m\u001b[0ma\u001b[0m \u001b[0;32mfor\u001b[0m \u001b[0ma\u001b[0m \u001b[0;32min\u001b[0m \u001b[0mself\u001b[0m\u001b[0;34m.\u001b[0m\u001b[0malias_map\u001b[0m \u001b[0;32mif\u001b[0m \u001b[0mself\u001b[0m\u001b[0;34m.\u001b[0m\u001b[0malias_map\u001b[0m\u001b[0;34m[\u001b[0m\u001b[0ma\u001b[0m\u001b[0;34m]\u001b[0m\u001b[0;34m.\u001b[0m\u001b[0mjoin_type\u001b[0m \u001b[0;34m==\u001b[0m \u001b[0mINNER\u001b[0m\u001b[0;34m}\u001b[0m\u001b[0;34m\u001b[0m\u001b[0m\n\u001b[0;32m-> 1253\u001b[0;31m         \u001b[0mclause\u001b[0m\u001b[0;34m,\u001b[0m \u001b[0m_\u001b[0m \u001b[0;34m=\u001b[0m \u001b[0mself\u001b[0m\u001b[0;34m.\u001b[0m\u001b[0m_add_q\u001b[0m\u001b[0;34m(\u001b[0m\u001b[0mq_object\u001b[0m\u001b[0;34m,\u001b[0m \u001b[0mself\u001b[0m\u001b[0;34m.\u001b[0m\u001b[0mused_aliases\u001b[0m\u001b[0;34m)\u001b[0m\u001b[0;34m\u001b[0m\u001b[0m\n\u001b[0m\u001b[1;32m   1254\u001b[0m         \u001b[0;32mif\u001b[0m \u001b[0mclause\u001b[0m\u001b[0;34m:\u001b[0m\u001b[0;34m\u001b[0m\u001b[0m\n\u001b[1;32m   1255\u001b[0m             \u001b[0mself\u001b[0m\u001b[0;34m.\u001b[0m\u001b[0mwhere\u001b[0m\u001b[0;34m.\u001b[0m\u001b[0madd\u001b[0m\u001b[0;34m(\u001b[0m\u001b[0mclause\u001b[0m\u001b[0;34m,\u001b[0m \u001b[0mAND\u001b[0m\u001b[0;34m)\u001b[0m\u001b[0;34m\u001b[0m\u001b[0m\n",
      "\u001b[0;32m~/Escritorio/dev/dev17/venv/lib/python3.6/site-packages/django/db/models/sql/query.py\u001b[0m in \u001b[0;36m_add_q\u001b[0;34m(self, q_object, used_aliases, branch_negated, current_negated, allow_joins, split_subq)\u001b[0m\n\u001b[1;32m   1275\u001b[0m                     \u001b[0mchild\u001b[0m\u001b[0;34m,\u001b[0m \u001b[0mcan_reuse\u001b[0m\u001b[0;34m=\u001b[0m\u001b[0mused_aliases\u001b[0m\u001b[0;34m,\u001b[0m \u001b[0mbranch_negated\u001b[0m\u001b[0;34m=\u001b[0m\u001b[0mbranch_negated\u001b[0m\u001b[0;34m,\u001b[0m\u001b[0;34m\u001b[0m\u001b[0m\n\u001b[1;32m   1276\u001b[0m                     \u001b[0mcurrent_negated\u001b[0m\u001b[0;34m=\u001b[0m\u001b[0mcurrent_negated\u001b[0m\u001b[0;34m,\u001b[0m \u001b[0mallow_joins\u001b[0m\u001b[0;34m=\u001b[0m\u001b[0mallow_joins\u001b[0m\u001b[0;34m,\u001b[0m\u001b[0;34m\u001b[0m\u001b[0m\n\u001b[0;32m-> 1277\u001b[0;31m                     \u001b[0msplit_subq\u001b[0m\u001b[0;34m=\u001b[0m\u001b[0msplit_subq\u001b[0m\u001b[0;34m,\u001b[0m\u001b[0;34m\u001b[0m\u001b[0m\n\u001b[0m\u001b[1;32m   1278\u001b[0m                 )\n\u001b[1;32m   1279\u001b[0m                 \u001b[0mjoinpromoter\u001b[0m\u001b[0;34m.\u001b[0m\u001b[0madd_votes\u001b[0m\u001b[0;34m(\u001b[0m\u001b[0mneeded_inner\u001b[0m\u001b[0;34m)\u001b[0m\u001b[0;34m\u001b[0m\u001b[0m\n",
      "\u001b[0;32m~/Escritorio/dev/dev17/venv/lib/python3.6/site-packages/django/db/models/sql/query.py\u001b[0m in \u001b[0;36mbuild_filter\u001b[0;34m(self, filter_expr, branch_negated, current_negated, can_reuse, allow_joins, split_subq, reuse_with_filtered_relation)\u001b[0m\n\u001b[1;32m   1151\u001b[0m         \u001b[0;32mif\u001b[0m \u001b[0;32mnot\u001b[0m \u001b[0marg\u001b[0m\u001b[0;34m:\u001b[0m\u001b[0;34m\u001b[0m\u001b[0m\n\u001b[1;32m   1152\u001b[0m             \u001b[0;32mraise\u001b[0m \u001b[0mFieldError\u001b[0m\u001b[0;34m(\u001b[0m\u001b[0;34m\"Cannot parse keyword query %r\"\u001b[0m \u001b[0;34m%\u001b[0m \u001b[0marg\u001b[0m\u001b[0;34m)\u001b[0m\u001b[0;34m\u001b[0m\u001b[0m\n\u001b[0;32m-> 1153\u001b[0;31m         \u001b[0mlookups\u001b[0m\u001b[0;34m,\u001b[0m \u001b[0mparts\u001b[0m\u001b[0;34m,\u001b[0m \u001b[0mreffed_expression\u001b[0m \u001b[0;34m=\u001b[0m \u001b[0mself\u001b[0m\u001b[0;34m.\u001b[0m\u001b[0msolve_lookup_type\u001b[0m\u001b[0;34m(\u001b[0m\u001b[0marg\u001b[0m\u001b[0;34m)\u001b[0m\u001b[0;34m\u001b[0m\u001b[0m\n\u001b[0m\u001b[1;32m   1154\u001b[0m \u001b[0;34m\u001b[0m\u001b[0m\n\u001b[1;32m   1155\u001b[0m         \u001b[0;32mif\u001b[0m \u001b[0;32mnot\u001b[0m \u001b[0mgetattr\u001b[0m\u001b[0;34m(\u001b[0m\u001b[0mreffed_expression\u001b[0m\u001b[0;34m,\u001b[0m \u001b[0;34m'filterable'\u001b[0m\u001b[0;34m,\u001b[0m \u001b[0;32mTrue\u001b[0m\u001b[0;34m)\u001b[0m\u001b[0;34m:\u001b[0m\u001b[0;34m\u001b[0m\u001b[0m\n",
      "\u001b[0;32m~/Escritorio/dev/dev17/venv/lib/python3.6/site-packages/django/db/models/sql/query.py\u001b[0m in \u001b[0;36msolve_lookup_type\u001b[0;34m(self, lookup)\u001b[0m\n\u001b[1;32m   1013\u001b[0m             \u001b[0;32mif\u001b[0m \u001b[0mexpression\u001b[0m\u001b[0;34m:\u001b[0m\u001b[0;34m\u001b[0m\u001b[0m\n\u001b[1;32m   1014\u001b[0m                 \u001b[0;32mreturn\u001b[0m \u001b[0mexpression_lookups\u001b[0m\u001b[0;34m,\u001b[0m \u001b[0;34m(\u001b[0m\u001b[0;34m)\u001b[0m\u001b[0;34m,\u001b[0m \u001b[0mexpression\u001b[0m\u001b[0;34m\u001b[0m\u001b[0m\n\u001b[0;32m-> 1015\u001b[0;31m         \u001b[0m_\u001b[0m\u001b[0;34m,\u001b[0m \u001b[0mfield\u001b[0m\u001b[0;34m,\u001b[0m \u001b[0m_\u001b[0m\u001b[0;34m,\u001b[0m \u001b[0mlookup_parts\u001b[0m \u001b[0;34m=\u001b[0m \u001b[0mself\u001b[0m\u001b[0;34m.\u001b[0m\u001b[0mnames_to_path\u001b[0m\u001b[0;34m(\u001b[0m\u001b[0mlookup_splitted\u001b[0m\u001b[0;34m,\u001b[0m \u001b[0mself\u001b[0m\u001b[0;34m.\u001b[0m\u001b[0mget_meta\u001b[0m\u001b[0;34m(\u001b[0m\u001b[0;34m)\u001b[0m\u001b[0;34m)\u001b[0m\u001b[0;34m\u001b[0m\u001b[0m\n\u001b[0m\u001b[1;32m   1016\u001b[0m         \u001b[0mfield_parts\u001b[0m \u001b[0;34m=\u001b[0m \u001b[0mlookup_splitted\u001b[0m\u001b[0;34m[\u001b[0m\u001b[0;36m0\u001b[0m\u001b[0;34m:\u001b[0m\u001b[0mlen\u001b[0m\u001b[0;34m(\u001b[0m\u001b[0mlookup_splitted\u001b[0m\u001b[0;34m)\u001b[0m \u001b[0;34m-\u001b[0m \u001b[0mlen\u001b[0m\u001b[0;34m(\u001b[0m\u001b[0mlookup_parts\u001b[0m\u001b[0;34m)\u001b[0m\u001b[0;34m]\u001b[0m\u001b[0;34m\u001b[0m\u001b[0m\n\u001b[1;32m   1017\u001b[0m         \u001b[0;32mif\u001b[0m \u001b[0mlen\u001b[0m\u001b[0;34m(\u001b[0m\u001b[0mlookup_parts\u001b[0m\u001b[0;34m)\u001b[0m \u001b[0;34m>\u001b[0m \u001b[0;36m1\u001b[0m \u001b[0;32mand\u001b[0m \u001b[0;32mnot\u001b[0m \u001b[0mfield_parts\u001b[0m\u001b[0;34m:\u001b[0m\u001b[0;34m\u001b[0m\u001b[0m\n",
      "\u001b[0;32m~/Escritorio/dev/dev17/venv/lib/python3.6/site-packages/django/db/models/sql/query.py\u001b[0m in \u001b[0;36mnames_to_path\u001b[0;34m(self, names, opts, allow_many, fail_on_missing)\u001b[0m\n\u001b[1;32m   1353\u001b[0m                 \u001b[0;31m# model (like a GenericForeignKey) cannot generate reverse\u001b[0m\u001b[0;34m\u001b[0m\u001b[0;34m\u001b[0m\u001b[0m\n\u001b[1;32m   1354\u001b[0m                 \u001b[0;31m# relations and therefore cannot be used for reverse querying.\u001b[0m\u001b[0;34m\u001b[0m\u001b[0;34m\u001b[0m\u001b[0m\n\u001b[0;32m-> 1355\u001b[0;31m                 \u001b[0;32mif\u001b[0m \u001b[0mfield\u001b[0m\u001b[0;34m.\u001b[0m\u001b[0mis_relation\u001b[0m \u001b[0;32mand\u001b[0m \u001b[0;32mnot\u001b[0m \u001b[0mfield\u001b[0m\u001b[0;34m.\u001b[0m\u001b[0mrelated_model\u001b[0m\u001b[0;34m:\u001b[0m\u001b[0;34m\u001b[0m\u001b[0m\n\u001b[0m\u001b[1;32m   1356\u001b[0m                     raise FieldError(\n\u001b[1;32m   1357\u001b[0m                         \u001b[0;34m\"Field %r does not generate an automatic reverse \"\u001b[0m\u001b[0;34m\u001b[0m\u001b[0m\n",
      "\u001b[0;32m~/Escritorio/dev/dev17/venv/lib/python3.6/site-packages/django/utils/functional.py\u001b[0m in \u001b[0;36m__get__\u001b[0;34m(self, instance, cls)\u001b[0m\n\u001b[1;32m     34\u001b[0m         \u001b[0;32mif\u001b[0m \u001b[0minstance\u001b[0m \u001b[0;32mis\u001b[0m \u001b[0;32mNone\u001b[0m\u001b[0;34m:\u001b[0m\u001b[0;34m\u001b[0m\u001b[0m\n\u001b[1;32m     35\u001b[0m             \u001b[0;32mreturn\u001b[0m \u001b[0mself\u001b[0m\u001b[0;34m\u001b[0m\u001b[0m\n\u001b[0;32m---> 36\u001b[0;31m         \u001b[0mres\u001b[0m \u001b[0;34m=\u001b[0m \u001b[0minstance\u001b[0m\u001b[0;34m.\u001b[0m\u001b[0m__dict__\u001b[0m\u001b[0;34m[\u001b[0m\u001b[0mself\u001b[0m\u001b[0;34m.\u001b[0m\u001b[0mname\u001b[0m\u001b[0;34m]\u001b[0m \u001b[0;34m=\u001b[0m \u001b[0mself\u001b[0m\u001b[0;34m.\u001b[0m\u001b[0mfunc\u001b[0m\u001b[0;34m(\u001b[0m\u001b[0minstance\u001b[0m\u001b[0;34m)\u001b[0m\u001b[0;34m\u001b[0m\u001b[0m\n\u001b[0m\u001b[1;32m     37\u001b[0m         \u001b[0;32mreturn\u001b[0m \u001b[0mres\u001b[0m\u001b[0;34m\u001b[0m\u001b[0m\n\u001b[1;32m     38\u001b[0m \u001b[0;34m\u001b[0m\u001b[0m\n",
      "\u001b[0;32m~/Escritorio/dev/dev17/venv/lib/python3.6/site-packages/django/db/models/fields/related.py\u001b[0m in \u001b[0;36mrelated_model\u001b[0;34m(self)\u001b[0m\n\u001b[1;32m     92\u001b[0m     \u001b[0;32mdef\u001b[0m \u001b[0mrelated_model\u001b[0m\u001b[0;34m(\u001b[0m\u001b[0mself\u001b[0m\u001b[0;34m)\u001b[0m\u001b[0;34m:\u001b[0m\u001b[0;34m\u001b[0m\u001b[0m\n\u001b[1;32m     93\u001b[0m         \u001b[0;31m# Can't cache this property until all the models are loaded.\u001b[0m\u001b[0;34m\u001b[0m\u001b[0;34m\u001b[0m\u001b[0m\n\u001b[0;32m---> 94\u001b[0;31m         \u001b[0mapps\u001b[0m\u001b[0;34m.\u001b[0m\u001b[0mcheck_models_ready\u001b[0m\u001b[0;34m(\u001b[0m\u001b[0;34m)\u001b[0m\u001b[0;34m\u001b[0m\u001b[0m\n\u001b[0m\u001b[1;32m     95\u001b[0m         \u001b[0;32mreturn\u001b[0m \u001b[0mself\u001b[0m\u001b[0;34m.\u001b[0m\u001b[0mremote_field\u001b[0m\u001b[0;34m.\u001b[0m\u001b[0mmodel\u001b[0m\u001b[0;34m\u001b[0m\u001b[0m\n\u001b[1;32m     96\u001b[0m \u001b[0;34m\u001b[0m\u001b[0m\n",
      "\u001b[0;32m~/Escritorio/dev/dev17/venv/lib/python3.6/site-packages/django/apps/registry.py\u001b[0m in \u001b[0;36mcheck_models_ready\u001b[0;34m(self)\u001b[0m\n\u001b[1;32m    130\u001b[0m         \u001b[0;34m\"\"\"Raise an exception if all models haven't been imported yet.\"\"\"\u001b[0m\u001b[0;34m\u001b[0m\u001b[0m\n\u001b[1;32m    131\u001b[0m         \u001b[0;32mif\u001b[0m \u001b[0;32mnot\u001b[0m \u001b[0mself\u001b[0m\u001b[0;34m.\u001b[0m\u001b[0mmodels_ready\u001b[0m\u001b[0;34m:\u001b[0m\u001b[0;34m\u001b[0m\u001b[0m\n\u001b[0;32m--> 132\u001b[0;31m             \u001b[0;32mraise\u001b[0m \u001b[0mAppRegistryNotReady\u001b[0m\u001b[0;34m(\u001b[0m\u001b[0;34m\"Models aren't loaded yet.\"\u001b[0m\u001b[0;34m)\u001b[0m\u001b[0;34m\u001b[0m\u001b[0m\n\u001b[0m\u001b[1;32m    133\u001b[0m \u001b[0;34m\u001b[0m\u001b[0m\n\u001b[1;32m    134\u001b[0m     \u001b[0;32mdef\u001b[0m \u001b[0mget_app_configs\u001b[0m\u001b[0;34m(\u001b[0m\u001b[0mself\u001b[0m\u001b[0;34m)\u001b[0m\u001b[0;34m:\u001b[0m\u001b[0;34m\u001b[0m\u001b[0m\n",
      "\u001b[0;31mAppRegistryNotReady\u001b[0m: Models aren't loaded yet."
     ]
    }
   ],
   "source": [
    "i.choice_set.filter(votes=1)"
   ]
  },
  {
   "cell_type": "code",
   "execution_count": 50,
   "metadata": {
    "collapsed": true
   },
   "outputs": [
    {
     "ename": "AppRegistryNotReady",
     "evalue": "Models aren't loaded yet.",
     "output_type": "error",
     "traceback": [
      "\u001b[0;31m---------------------------------------------------------------------------\u001b[0m",
      "\u001b[0;31mAttributeError\u001b[0m                            Traceback (most recent call last)",
      "\u001b[0;32m~/Escritorio/dev/dev17/venv/lib/python3.6/site-packages/django/db/models/fields/related_descriptors.py\u001b[0m in \u001b[0;36mget_queryset\u001b[0;34m(self)\u001b[0m\n\u001b[1;32m    561\u001b[0m             \u001b[0;32mtry\u001b[0m\u001b[0;34m:\u001b[0m\u001b[0;34m\u001b[0m\u001b[0m\n\u001b[0;32m--> 562\u001b[0;31m                 \u001b[0;32mreturn\u001b[0m \u001b[0mself\u001b[0m\u001b[0;34m.\u001b[0m\u001b[0minstance\u001b[0m\u001b[0;34m.\u001b[0m\u001b[0m_prefetched_objects_cache\u001b[0m\u001b[0;34m[\u001b[0m\u001b[0mself\u001b[0m\u001b[0;34m.\u001b[0m\u001b[0mfield\u001b[0m\u001b[0;34m.\u001b[0m\u001b[0mrelated_query_name\u001b[0m\u001b[0;34m(\u001b[0m\u001b[0;34m)\u001b[0m\u001b[0;34m]\u001b[0m\u001b[0;34m\u001b[0m\u001b[0m\n\u001b[0m\u001b[1;32m    563\u001b[0m             \u001b[0;32mexcept\u001b[0m \u001b[0;34m(\u001b[0m\u001b[0mAttributeError\u001b[0m\u001b[0;34m,\u001b[0m \u001b[0mKeyError\u001b[0m\u001b[0;34m)\u001b[0m\u001b[0;34m:\u001b[0m\u001b[0;34m\u001b[0m\u001b[0m\n",
      "\u001b[0;31mAttributeError\u001b[0m: 'Question' object has no attribute '_prefetched_objects_cache'",
      "\nDuring handling of the above exception, another exception occurred:\n",
      "\u001b[0;31mAppRegistryNotReady\u001b[0m                       Traceback (most recent call last)",
      "\u001b[0;32m<ipython-input-50-e48e919974f8>\u001b[0m in \u001b[0;36m<module>\u001b[0;34m()\u001b[0m\n\u001b[0;32m----> 1\u001b[0;31m \u001b[0mlen\u001b[0m\u001b[0;34m(\u001b[0m\u001b[0mi\u001b[0m\u001b[0;34m.\u001b[0m\u001b[0mchoice_set\u001b[0m\u001b[0;34m.\u001b[0m\u001b[0mfilter\u001b[0m\u001b[0;34m(\u001b[0m\u001b[0mid__in\u001b[0m\u001b[0;34m=\u001b[0m\u001b[0;36m1\u001b[0m\u001b[0;34m)\u001b[0m\u001b[0;34m)\u001b[0m\u001b[0;34m\u001b[0m\u001b[0m\n\u001b[0m",
      "\u001b[0;32m~/Escritorio/dev/dev17/venv/lib/python3.6/site-packages/django/db/models/manager.py\u001b[0m in \u001b[0;36mmanager_method\u001b[0;34m(self, *args, **kwargs)\u001b[0m\n\u001b[1;32m     80\u001b[0m         \u001b[0;32mdef\u001b[0m \u001b[0mcreate_method\u001b[0m\u001b[0;34m(\u001b[0m\u001b[0mname\u001b[0m\u001b[0;34m,\u001b[0m \u001b[0mmethod\u001b[0m\u001b[0;34m)\u001b[0m\u001b[0;34m:\u001b[0m\u001b[0;34m\u001b[0m\u001b[0m\n\u001b[1;32m     81\u001b[0m             \u001b[0;32mdef\u001b[0m \u001b[0mmanager_method\u001b[0m\u001b[0;34m(\u001b[0m\u001b[0mself\u001b[0m\u001b[0;34m,\u001b[0m \u001b[0;34m*\u001b[0m\u001b[0margs\u001b[0m\u001b[0;34m,\u001b[0m \u001b[0;34m**\u001b[0m\u001b[0mkwargs\u001b[0m\u001b[0;34m)\u001b[0m\u001b[0;34m:\u001b[0m\u001b[0;34m\u001b[0m\u001b[0m\n\u001b[0;32m---> 82\u001b[0;31m                 \u001b[0;32mreturn\u001b[0m \u001b[0mgetattr\u001b[0m\u001b[0;34m(\u001b[0m\u001b[0mself\u001b[0m\u001b[0;34m.\u001b[0m\u001b[0mget_queryset\u001b[0m\u001b[0;34m(\u001b[0m\u001b[0;34m)\u001b[0m\u001b[0;34m,\u001b[0m \u001b[0mname\u001b[0m\u001b[0;34m)\u001b[0m\u001b[0;34m(\u001b[0m\u001b[0;34m*\u001b[0m\u001b[0margs\u001b[0m\u001b[0;34m,\u001b[0m \u001b[0;34m**\u001b[0m\u001b[0mkwargs\u001b[0m\u001b[0;34m)\u001b[0m\u001b[0;34m\u001b[0m\u001b[0m\n\u001b[0m\u001b[1;32m     83\u001b[0m             \u001b[0mmanager_method\u001b[0m\u001b[0;34m.\u001b[0m\u001b[0m__name__\u001b[0m \u001b[0;34m=\u001b[0m \u001b[0mmethod\u001b[0m\u001b[0;34m.\u001b[0m\u001b[0m__name__\u001b[0m\u001b[0;34m\u001b[0m\u001b[0m\n\u001b[1;32m     84\u001b[0m             \u001b[0mmanager_method\u001b[0m\u001b[0;34m.\u001b[0m\u001b[0m__doc__\u001b[0m \u001b[0;34m=\u001b[0m \u001b[0mmethod\u001b[0m\u001b[0;34m.\u001b[0m\u001b[0m__doc__\u001b[0m\u001b[0;34m\u001b[0m\u001b[0m\n",
      "\u001b[0;32m~/Escritorio/dev/dev17/venv/lib/python3.6/site-packages/django/db/models/fields/related_descriptors.py\u001b[0m in \u001b[0;36mget_queryset\u001b[0;34m(self)\u001b[0m\n\u001b[1;32m    563\u001b[0m             \u001b[0;32mexcept\u001b[0m \u001b[0;34m(\u001b[0m\u001b[0mAttributeError\u001b[0m\u001b[0;34m,\u001b[0m \u001b[0mKeyError\u001b[0m\u001b[0;34m)\u001b[0m\u001b[0;34m:\u001b[0m\u001b[0;34m\u001b[0m\u001b[0m\n\u001b[1;32m    564\u001b[0m                 \u001b[0mqueryset\u001b[0m \u001b[0;34m=\u001b[0m \u001b[0msuper\u001b[0m\u001b[0;34m(\u001b[0m\u001b[0;34m)\u001b[0m\u001b[0;34m.\u001b[0m\u001b[0mget_queryset\u001b[0m\u001b[0;34m(\u001b[0m\u001b[0;34m)\u001b[0m\u001b[0;34m\u001b[0m\u001b[0m\n\u001b[0;32m--> 565\u001b[0;31m                 \u001b[0;32mreturn\u001b[0m \u001b[0mself\u001b[0m\u001b[0;34m.\u001b[0m\u001b[0m_apply_rel_filters\u001b[0m\u001b[0;34m(\u001b[0m\u001b[0mqueryset\u001b[0m\u001b[0;34m)\u001b[0m\u001b[0;34m\u001b[0m\u001b[0m\n\u001b[0m\u001b[1;32m    566\u001b[0m \u001b[0;34m\u001b[0m\u001b[0m\n\u001b[1;32m    567\u001b[0m         \u001b[0;32mdef\u001b[0m \u001b[0mget_prefetch_queryset\u001b[0m\u001b[0;34m(\u001b[0m\u001b[0mself\u001b[0m\u001b[0;34m,\u001b[0m \u001b[0minstances\u001b[0m\u001b[0;34m,\u001b[0m \u001b[0mqueryset\u001b[0m\u001b[0;34m=\u001b[0m\u001b[0;32mNone\u001b[0m\u001b[0;34m)\u001b[0m\u001b[0;34m:\u001b[0m\u001b[0;34m\u001b[0m\u001b[0m\n",
      "\u001b[0;32m~/Escritorio/dev/dev17/venv/lib/python3.6/site-packages/django/db/models/fields/related_descriptors.py\u001b[0m in \u001b[0;36m_apply_rel_filters\u001b[0;34m(self, queryset)\u001b[0m\n\u001b[1;32m    544\u001b[0m             \u001b[0;32mif\u001b[0m \u001b[0mself\u001b[0m\u001b[0;34m.\u001b[0m\u001b[0m_db\u001b[0m\u001b[0;34m:\u001b[0m\u001b[0;34m\u001b[0m\u001b[0m\n\u001b[1;32m    545\u001b[0m                 \u001b[0mqueryset\u001b[0m \u001b[0;34m=\u001b[0m \u001b[0mqueryset\u001b[0m\u001b[0;34m.\u001b[0m\u001b[0musing\u001b[0m\u001b[0;34m(\u001b[0m\u001b[0mself\u001b[0m\u001b[0;34m.\u001b[0m\u001b[0m_db\u001b[0m\u001b[0;34m)\u001b[0m\u001b[0;34m\u001b[0m\u001b[0m\n\u001b[0;32m--> 546\u001b[0;31m             \u001b[0mqueryset\u001b[0m \u001b[0;34m=\u001b[0m \u001b[0mqueryset\u001b[0m\u001b[0;34m.\u001b[0m\u001b[0mfilter\u001b[0m\u001b[0;34m(\u001b[0m\u001b[0;34m**\u001b[0m\u001b[0mself\u001b[0m\u001b[0;34m.\u001b[0m\u001b[0mcore_filters\u001b[0m\u001b[0;34m)\u001b[0m\u001b[0;34m\u001b[0m\u001b[0m\n\u001b[0m\u001b[1;32m    547\u001b[0m             \u001b[0;32mfor\u001b[0m \u001b[0mfield\u001b[0m \u001b[0;32min\u001b[0m \u001b[0mself\u001b[0m\u001b[0;34m.\u001b[0m\u001b[0mfield\u001b[0m\u001b[0;34m.\u001b[0m\u001b[0mforeign_related_fields\u001b[0m\u001b[0;34m:\u001b[0m\u001b[0;34m\u001b[0m\u001b[0m\n\u001b[1;32m    548\u001b[0m                 \u001b[0mval\u001b[0m \u001b[0;34m=\u001b[0m \u001b[0mgetattr\u001b[0m\u001b[0;34m(\u001b[0m\u001b[0mself\u001b[0m\u001b[0;34m.\u001b[0m\u001b[0minstance\u001b[0m\u001b[0;34m,\u001b[0m \u001b[0mfield\u001b[0m\u001b[0;34m.\u001b[0m\u001b[0mattname\u001b[0m\u001b[0;34m)\u001b[0m\u001b[0;34m\u001b[0m\u001b[0m\n",
      "\u001b[0;32m~/Escritorio/dev/dev17/venv/lib/python3.6/site-packages/django/db/models/query.py\u001b[0m in \u001b[0;36mfilter\u001b[0;34m(self, *args, **kwargs)\u001b[0m\n\u001b[1;32m    834\u001b[0m         \u001b[0mset\u001b[0m\u001b[0;34m.\u001b[0m\u001b[0;34m\u001b[0m\u001b[0m\n\u001b[1;32m    835\u001b[0m         \"\"\"\n\u001b[0;32m--> 836\u001b[0;31m         \u001b[0;32mreturn\u001b[0m \u001b[0mself\u001b[0m\u001b[0;34m.\u001b[0m\u001b[0m_filter_or_exclude\u001b[0m\u001b[0;34m(\u001b[0m\u001b[0;32mFalse\u001b[0m\u001b[0;34m,\u001b[0m \u001b[0;34m*\u001b[0m\u001b[0margs\u001b[0m\u001b[0;34m,\u001b[0m \u001b[0;34m**\u001b[0m\u001b[0mkwargs\u001b[0m\u001b[0;34m)\u001b[0m\u001b[0;34m\u001b[0m\u001b[0m\n\u001b[0m\u001b[1;32m    837\u001b[0m \u001b[0;34m\u001b[0m\u001b[0m\n\u001b[1;32m    838\u001b[0m     \u001b[0;32mdef\u001b[0m \u001b[0mexclude\u001b[0m\u001b[0;34m(\u001b[0m\u001b[0mself\u001b[0m\u001b[0;34m,\u001b[0m \u001b[0;34m*\u001b[0m\u001b[0margs\u001b[0m\u001b[0;34m,\u001b[0m \u001b[0;34m**\u001b[0m\u001b[0mkwargs\u001b[0m\u001b[0;34m)\u001b[0m\u001b[0;34m:\u001b[0m\u001b[0;34m\u001b[0m\u001b[0m\n",
      "\u001b[0;32m~/Escritorio/dev/dev17/venv/lib/python3.6/site-packages/django/db/models/query.py\u001b[0m in \u001b[0;36m_filter_or_exclude\u001b[0;34m(self, negate, *args, **kwargs)\u001b[0m\n\u001b[1;32m    852\u001b[0m             \u001b[0mclone\u001b[0m\u001b[0;34m.\u001b[0m\u001b[0mquery\u001b[0m\u001b[0;34m.\u001b[0m\u001b[0madd_q\u001b[0m\u001b[0;34m(\u001b[0m\u001b[0;34m~\u001b[0m\u001b[0mQ\u001b[0m\u001b[0;34m(\u001b[0m\u001b[0;34m*\u001b[0m\u001b[0margs\u001b[0m\u001b[0;34m,\u001b[0m \u001b[0;34m**\u001b[0m\u001b[0mkwargs\u001b[0m\u001b[0;34m)\u001b[0m\u001b[0;34m)\u001b[0m\u001b[0;34m\u001b[0m\u001b[0m\n\u001b[1;32m    853\u001b[0m         \u001b[0;32melse\u001b[0m\u001b[0;34m:\u001b[0m\u001b[0;34m\u001b[0m\u001b[0m\n\u001b[0;32m--> 854\u001b[0;31m             \u001b[0mclone\u001b[0m\u001b[0;34m.\u001b[0m\u001b[0mquery\u001b[0m\u001b[0;34m.\u001b[0m\u001b[0madd_q\u001b[0m\u001b[0;34m(\u001b[0m\u001b[0mQ\u001b[0m\u001b[0;34m(\u001b[0m\u001b[0;34m*\u001b[0m\u001b[0margs\u001b[0m\u001b[0;34m,\u001b[0m \u001b[0;34m**\u001b[0m\u001b[0mkwargs\u001b[0m\u001b[0;34m)\u001b[0m\u001b[0;34m)\u001b[0m\u001b[0;34m\u001b[0m\u001b[0m\n\u001b[0m\u001b[1;32m    855\u001b[0m         \u001b[0;32mreturn\u001b[0m \u001b[0mclone\u001b[0m\u001b[0;34m\u001b[0m\u001b[0m\n\u001b[1;32m    856\u001b[0m \u001b[0;34m\u001b[0m\u001b[0m\n",
      "\u001b[0;32m~/Escritorio/dev/dev17/venv/lib/python3.6/site-packages/django/db/models/sql/query.py\u001b[0m in \u001b[0;36madd_q\u001b[0;34m(self, q_object)\u001b[0m\n\u001b[1;32m   1251\u001b[0m         \u001b[0;31m# So, demotion is OK.\u001b[0m\u001b[0;34m\u001b[0m\u001b[0;34m\u001b[0m\u001b[0m\n\u001b[1;32m   1252\u001b[0m         \u001b[0mexisting_inner\u001b[0m \u001b[0;34m=\u001b[0m \u001b[0;34m{\u001b[0m\u001b[0ma\u001b[0m \u001b[0;32mfor\u001b[0m \u001b[0ma\u001b[0m \u001b[0;32min\u001b[0m \u001b[0mself\u001b[0m\u001b[0;34m.\u001b[0m\u001b[0malias_map\u001b[0m \u001b[0;32mif\u001b[0m \u001b[0mself\u001b[0m\u001b[0;34m.\u001b[0m\u001b[0malias_map\u001b[0m\u001b[0;34m[\u001b[0m\u001b[0ma\u001b[0m\u001b[0;34m]\u001b[0m\u001b[0;34m.\u001b[0m\u001b[0mjoin_type\u001b[0m \u001b[0;34m==\u001b[0m \u001b[0mINNER\u001b[0m\u001b[0;34m}\u001b[0m\u001b[0;34m\u001b[0m\u001b[0m\n\u001b[0;32m-> 1253\u001b[0;31m         \u001b[0mclause\u001b[0m\u001b[0;34m,\u001b[0m \u001b[0m_\u001b[0m \u001b[0;34m=\u001b[0m \u001b[0mself\u001b[0m\u001b[0;34m.\u001b[0m\u001b[0m_add_q\u001b[0m\u001b[0;34m(\u001b[0m\u001b[0mq_object\u001b[0m\u001b[0;34m,\u001b[0m \u001b[0mself\u001b[0m\u001b[0;34m.\u001b[0m\u001b[0mused_aliases\u001b[0m\u001b[0;34m)\u001b[0m\u001b[0;34m\u001b[0m\u001b[0m\n\u001b[0m\u001b[1;32m   1254\u001b[0m         \u001b[0;32mif\u001b[0m \u001b[0mclause\u001b[0m\u001b[0;34m:\u001b[0m\u001b[0;34m\u001b[0m\u001b[0m\n\u001b[1;32m   1255\u001b[0m             \u001b[0mself\u001b[0m\u001b[0;34m.\u001b[0m\u001b[0mwhere\u001b[0m\u001b[0;34m.\u001b[0m\u001b[0madd\u001b[0m\u001b[0;34m(\u001b[0m\u001b[0mclause\u001b[0m\u001b[0;34m,\u001b[0m \u001b[0mAND\u001b[0m\u001b[0;34m)\u001b[0m\u001b[0;34m\u001b[0m\u001b[0m\n",
      "\u001b[0;32m~/Escritorio/dev/dev17/venv/lib/python3.6/site-packages/django/db/models/sql/query.py\u001b[0m in \u001b[0;36m_add_q\u001b[0;34m(self, q_object, used_aliases, branch_negated, current_negated, allow_joins, split_subq)\u001b[0m\n\u001b[1;32m   1275\u001b[0m                     \u001b[0mchild\u001b[0m\u001b[0;34m,\u001b[0m \u001b[0mcan_reuse\u001b[0m\u001b[0;34m=\u001b[0m\u001b[0mused_aliases\u001b[0m\u001b[0;34m,\u001b[0m \u001b[0mbranch_negated\u001b[0m\u001b[0;34m=\u001b[0m\u001b[0mbranch_negated\u001b[0m\u001b[0;34m,\u001b[0m\u001b[0;34m\u001b[0m\u001b[0m\n\u001b[1;32m   1276\u001b[0m                     \u001b[0mcurrent_negated\u001b[0m\u001b[0;34m=\u001b[0m\u001b[0mcurrent_negated\u001b[0m\u001b[0;34m,\u001b[0m \u001b[0mallow_joins\u001b[0m\u001b[0;34m=\u001b[0m\u001b[0mallow_joins\u001b[0m\u001b[0;34m,\u001b[0m\u001b[0;34m\u001b[0m\u001b[0m\n\u001b[0;32m-> 1277\u001b[0;31m                     \u001b[0msplit_subq\u001b[0m\u001b[0;34m=\u001b[0m\u001b[0msplit_subq\u001b[0m\u001b[0;34m,\u001b[0m\u001b[0;34m\u001b[0m\u001b[0m\n\u001b[0m\u001b[1;32m   1278\u001b[0m                 )\n\u001b[1;32m   1279\u001b[0m                 \u001b[0mjoinpromoter\u001b[0m\u001b[0;34m.\u001b[0m\u001b[0madd_votes\u001b[0m\u001b[0;34m(\u001b[0m\u001b[0mneeded_inner\u001b[0m\u001b[0;34m)\u001b[0m\u001b[0;34m\u001b[0m\u001b[0m\n",
      "\u001b[0;32m~/Escritorio/dev/dev17/venv/lib/python3.6/site-packages/django/db/models/sql/query.py\u001b[0m in \u001b[0;36mbuild_filter\u001b[0;34m(self, filter_expr, branch_negated, current_negated, can_reuse, allow_joins, split_subq, reuse_with_filtered_relation)\u001b[0m\n\u001b[1;32m   1151\u001b[0m         \u001b[0;32mif\u001b[0m \u001b[0;32mnot\u001b[0m \u001b[0marg\u001b[0m\u001b[0;34m:\u001b[0m\u001b[0;34m\u001b[0m\u001b[0m\n\u001b[1;32m   1152\u001b[0m             \u001b[0;32mraise\u001b[0m \u001b[0mFieldError\u001b[0m\u001b[0;34m(\u001b[0m\u001b[0;34m\"Cannot parse keyword query %r\"\u001b[0m \u001b[0;34m%\u001b[0m \u001b[0marg\u001b[0m\u001b[0;34m)\u001b[0m\u001b[0;34m\u001b[0m\u001b[0m\n\u001b[0;32m-> 1153\u001b[0;31m         \u001b[0mlookups\u001b[0m\u001b[0;34m,\u001b[0m \u001b[0mparts\u001b[0m\u001b[0;34m,\u001b[0m \u001b[0mreffed_expression\u001b[0m \u001b[0;34m=\u001b[0m \u001b[0mself\u001b[0m\u001b[0;34m.\u001b[0m\u001b[0msolve_lookup_type\u001b[0m\u001b[0;34m(\u001b[0m\u001b[0marg\u001b[0m\u001b[0;34m)\u001b[0m\u001b[0;34m\u001b[0m\u001b[0m\n\u001b[0m\u001b[1;32m   1154\u001b[0m \u001b[0;34m\u001b[0m\u001b[0m\n\u001b[1;32m   1155\u001b[0m         \u001b[0;32mif\u001b[0m \u001b[0;32mnot\u001b[0m \u001b[0mgetattr\u001b[0m\u001b[0;34m(\u001b[0m\u001b[0mreffed_expression\u001b[0m\u001b[0;34m,\u001b[0m \u001b[0;34m'filterable'\u001b[0m\u001b[0;34m,\u001b[0m \u001b[0;32mTrue\u001b[0m\u001b[0;34m)\u001b[0m\u001b[0;34m:\u001b[0m\u001b[0;34m\u001b[0m\u001b[0m\n",
      "\u001b[0;32m~/Escritorio/dev/dev17/venv/lib/python3.6/site-packages/django/db/models/sql/query.py\u001b[0m in \u001b[0;36msolve_lookup_type\u001b[0;34m(self, lookup)\u001b[0m\n\u001b[1;32m   1013\u001b[0m             \u001b[0;32mif\u001b[0m \u001b[0mexpression\u001b[0m\u001b[0;34m:\u001b[0m\u001b[0;34m\u001b[0m\u001b[0m\n\u001b[1;32m   1014\u001b[0m                 \u001b[0;32mreturn\u001b[0m \u001b[0mexpression_lookups\u001b[0m\u001b[0;34m,\u001b[0m \u001b[0;34m(\u001b[0m\u001b[0;34m)\u001b[0m\u001b[0;34m,\u001b[0m \u001b[0mexpression\u001b[0m\u001b[0;34m\u001b[0m\u001b[0m\n\u001b[0;32m-> 1015\u001b[0;31m         \u001b[0m_\u001b[0m\u001b[0;34m,\u001b[0m \u001b[0mfield\u001b[0m\u001b[0;34m,\u001b[0m \u001b[0m_\u001b[0m\u001b[0;34m,\u001b[0m \u001b[0mlookup_parts\u001b[0m \u001b[0;34m=\u001b[0m \u001b[0mself\u001b[0m\u001b[0;34m.\u001b[0m\u001b[0mnames_to_path\u001b[0m\u001b[0;34m(\u001b[0m\u001b[0mlookup_splitted\u001b[0m\u001b[0;34m,\u001b[0m \u001b[0mself\u001b[0m\u001b[0;34m.\u001b[0m\u001b[0mget_meta\u001b[0m\u001b[0;34m(\u001b[0m\u001b[0;34m)\u001b[0m\u001b[0;34m)\u001b[0m\u001b[0;34m\u001b[0m\u001b[0m\n\u001b[0m\u001b[1;32m   1016\u001b[0m         \u001b[0mfield_parts\u001b[0m \u001b[0;34m=\u001b[0m \u001b[0mlookup_splitted\u001b[0m\u001b[0;34m[\u001b[0m\u001b[0;36m0\u001b[0m\u001b[0;34m:\u001b[0m\u001b[0mlen\u001b[0m\u001b[0;34m(\u001b[0m\u001b[0mlookup_splitted\u001b[0m\u001b[0;34m)\u001b[0m \u001b[0;34m-\u001b[0m \u001b[0mlen\u001b[0m\u001b[0;34m(\u001b[0m\u001b[0mlookup_parts\u001b[0m\u001b[0;34m)\u001b[0m\u001b[0;34m]\u001b[0m\u001b[0;34m\u001b[0m\u001b[0m\n\u001b[1;32m   1017\u001b[0m         \u001b[0;32mif\u001b[0m \u001b[0mlen\u001b[0m\u001b[0;34m(\u001b[0m\u001b[0mlookup_parts\u001b[0m\u001b[0;34m)\u001b[0m \u001b[0;34m>\u001b[0m \u001b[0;36m1\u001b[0m \u001b[0;32mand\u001b[0m \u001b[0;32mnot\u001b[0m \u001b[0mfield_parts\u001b[0m\u001b[0;34m:\u001b[0m\u001b[0;34m\u001b[0m\u001b[0m\n",
      "\u001b[0;32m~/Escritorio/dev/dev17/venv/lib/python3.6/site-packages/django/db/models/sql/query.py\u001b[0m in \u001b[0;36mnames_to_path\u001b[0;34m(self, names, opts, allow_many, fail_on_missing)\u001b[0m\n\u001b[1;32m   1353\u001b[0m                 \u001b[0;31m# model (like a GenericForeignKey) cannot generate reverse\u001b[0m\u001b[0;34m\u001b[0m\u001b[0;34m\u001b[0m\u001b[0m\n\u001b[1;32m   1354\u001b[0m                 \u001b[0;31m# relations and therefore cannot be used for reverse querying.\u001b[0m\u001b[0;34m\u001b[0m\u001b[0;34m\u001b[0m\u001b[0m\n\u001b[0;32m-> 1355\u001b[0;31m                 \u001b[0;32mif\u001b[0m \u001b[0mfield\u001b[0m\u001b[0;34m.\u001b[0m\u001b[0mis_relation\u001b[0m \u001b[0;32mand\u001b[0m \u001b[0;32mnot\u001b[0m \u001b[0mfield\u001b[0m\u001b[0;34m.\u001b[0m\u001b[0mrelated_model\u001b[0m\u001b[0;34m:\u001b[0m\u001b[0;34m\u001b[0m\u001b[0m\n\u001b[0m\u001b[1;32m   1356\u001b[0m                     raise FieldError(\n\u001b[1;32m   1357\u001b[0m                         \u001b[0;34m\"Field %r does not generate an automatic reverse \"\u001b[0m\u001b[0;34m\u001b[0m\u001b[0m\n",
      "\u001b[0;32m~/Escritorio/dev/dev17/venv/lib/python3.6/site-packages/django/utils/functional.py\u001b[0m in \u001b[0;36m__get__\u001b[0;34m(self, instance, cls)\u001b[0m\n\u001b[1;32m     34\u001b[0m         \u001b[0;32mif\u001b[0m \u001b[0minstance\u001b[0m \u001b[0;32mis\u001b[0m \u001b[0;32mNone\u001b[0m\u001b[0;34m:\u001b[0m\u001b[0;34m\u001b[0m\u001b[0m\n\u001b[1;32m     35\u001b[0m             \u001b[0;32mreturn\u001b[0m \u001b[0mself\u001b[0m\u001b[0;34m\u001b[0m\u001b[0m\n\u001b[0;32m---> 36\u001b[0;31m         \u001b[0mres\u001b[0m \u001b[0;34m=\u001b[0m \u001b[0minstance\u001b[0m\u001b[0;34m.\u001b[0m\u001b[0m__dict__\u001b[0m\u001b[0;34m[\u001b[0m\u001b[0mself\u001b[0m\u001b[0;34m.\u001b[0m\u001b[0mname\u001b[0m\u001b[0;34m]\u001b[0m \u001b[0;34m=\u001b[0m \u001b[0mself\u001b[0m\u001b[0;34m.\u001b[0m\u001b[0mfunc\u001b[0m\u001b[0;34m(\u001b[0m\u001b[0minstance\u001b[0m\u001b[0;34m)\u001b[0m\u001b[0;34m\u001b[0m\u001b[0m\n\u001b[0m\u001b[1;32m     37\u001b[0m         \u001b[0;32mreturn\u001b[0m \u001b[0mres\u001b[0m\u001b[0;34m\u001b[0m\u001b[0m\n\u001b[1;32m     38\u001b[0m \u001b[0;34m\u001b[0m\u001b[0m\n",
      "\u001b[0;32m~/Escritorio/dev/dev17/venv/lib/python3.6/site-packages/django/db/models/fields/related.py\u001b[0m in \u001b[0;36mrelated_model\u001b[0;34m(self)\u001b[0m\n\u001b[1;32m     92\u001b[0m     \u001b[0;32mdef\u001b[0m \u001b[0mrelated_model\u001b[0m\u001b[0;34m(\u001b[0m\u001b[0mself\u001b[0m\u001b[0;34m)\u001b[0m\u001b[0;34m:\u001b[0m\u001b[0;34m\u001b[0m\u001b[0m\n\u001b[1;32m     93\u001b[0m         \u001b[0;31m# Can't cache this property until all the models are loaded.\u001b[0m\u001b[0;34m\u001b[0m\u001b[0;34m\u001b[0m\u001b[0m\n\u001b[0;32m---> 94\u001b[0;31m         \u001b[0mapps\u001b[0m\u001b[0;34m.\u001b[0m\u001b[0mcheck_models_ready\u001b[0m\u001b[0;34m(\u001b[0m\u001b[0;34m)\u001b[0m\u001b[0;34m\u001b[0m\u001b[0m\n\u001b[0m\u001b[1;32m     95\u001b[0m         \u001b[0;32mreturn\u001b[0m \u001b[0mself\u001b[0m\u001b[0;34m.\u001b[0m\u001b[0mremote_field\u001b[0m\u001b[0;34m.\u001b[0m\u001b[0mmodel\u001b[0m\u001b[0;34m\u001b[0m\u001b[0m\n\u001b[1;32m     96\u001b[0m \u001b[0;34m\u001b[0m\u001b[0m\n",
      "\u001b[0;32m~/Escritorio/dev/dev17/venv/lib/python3.6/site-packages/django/apps/registry.py\u001b[0m in \u001b[0;36mcheck_models_ready\u001b[0;34m(self)\u001b[0m\n\u001b[1;32m    130\u001b[0m         \u001b[0;34m\"\"\"Raise an exception if all models haven't been imported yet.\"\"\"\u001b[0m\u001b[0;34m\u001b[0m\u001b[0m\n\u001b[1;32m    131\u001b[0m         \u001b[0;32mif\u001b[0m \u001b[0;32mnot\u001b[0m \u001b[0mself\u001b[0m\u001b[0;34m.\u001b[0m\u001b[0mmodels_ready\u001b[0m\u001b[0;34m:\u001b[0m\u001b[0;34m\u001b[0m\u001b[0m\n\u001b[0;32m--> 132\u001b[0;31m             \u001b[0;32mraise\u001b[0m \u001b[0mAppRegistryNotReady\u001b[0m\u001b[0;34m(\u001b[0m\u001b[0;34m\"Models aren't loaded yet.\"\u001b[0m\u001b[0;34m)\u001b[0m\u001b[0;34m\u001b[0m\u001b[0m\n\u001b[0m\u001b[1;32m    133\u001b[0m \u001b[0;34m\u001b[0m\u001b[0m\n\u001b[1;32m    134\u001b[0m     \u001b[0;32mdef\u001b[0m \u001b[0mget_app_configs\u001b[0m\u001b[0;34m(\u001b[0m\u001b[0mself\u001b[0m\u001b[0;34m)\u001b[0m\u001b[0;34m:\u001b[0m\u001b[0;34m\u001b[0m\u001b[0m\n",
      "\u001b[0;31mAppRegistryNotReady\u001b[0m: Models aren't loaded yet."
     ]
    }
   ],
   "source": [
    "len(i.choice_set.filter(id__in=1))"
   ]
  },
  {
   "cell_type": "code",
   "execution_count": null,
   "metadata": {},
   "outputs": [],
   "source": [
    "id__in=question_ids"
   ]
  },
  {
   "cell_type": "code",
   "execution_count": 49,
   "metadata": {},
   "outputs": [
    {
     "name": "stdout",
     "output_type": "stream",
     "text": [
      "Hello?\n"
     ]
    },
    {
     "ename": "NameError",
     "evalue": "name 'votes' is not defined",
     "output_type": "error",
     "traceback": [
      "\u001b[0;31m---------------------------------------------------------------------------\u001b[0m",
      "\u001b[0;31mNameError\u001b[0m                                 Traceback (most recent call last)",
      "\u001b[0;32m<ipython-input-49-75d2058d3ec1>\u001b[0m in \u001b[0;36m<module>\u001b[0;34m()\u001b[0m\n\u001b[1;32m      1\u001b[0m \u001b[0;32mfor\u001b[0m \u001b[0mi\u001b[0m \u001b[0;32min\u001b[0m \u001b[0mlatest_question_list\u001b[0m\u001b[0;34m:\u001b[0m\u001b[0;34m\u001b[0m\u001b[0m\n\u001b[1;32m      2\u001b[0m     \u001b[0mprint\u001b[0m \u001b[0;34m(\u001b[0m\u001b[0mi\u001b[0m\u001b[0;34m)\u001b[0m\u001b[0;34m\u001b[0m\u001b[0m\n\u001b[0;32m----> 3\u001b[0;31m     \u001b[0mprint\u001b[0m \u001b[0;34m(\u001b[0m\u001b[0mi\u001b[0m\u001b[0;34m.\u001b[0m\u001b[0mchoices_aviables\u001b[0m\u001b[0;34m(\u001b[0m\u001b[0;34m)\u001b[0m\u001b[0;34m)\u001b[0m\u001b[0;34m\u001b[0m\u001b[0m\n\u001b[0m",
      "\u001b[0;32m~/Escritorio/dev/dev17/mysite/polls/models.py\u001b[0m in \u001b[0;36mchoices_aviables\u001b[0;34m(self)\u001b[0m\n\u001b[1;32m     17\u001b[0m \u001b[0;34m\u001b[0m\u001b[0m\n\u001b[1;32m     18\u001b[0m     \u001b[0;31m#def choices_aviables(self):\u001b[0m\u001b[0;34m\u001b[0m\u001b[0;34m\u001b[0m\u001b[0m\n\u001b[0;32m---> 19\u001b[0;31m     \u001b[0;31m#    return self.choice_set.filter(votes=1)\u001b[0m\u001b[0;34m\u001b[0m\u001b[0;34m\u001b[0m\u001b[0m\n\u001b[0m\u001b[1;32m     20\u001b[0m \u001b[0;34m\u001b[0m\u001b[0m\n\u001b[1;32m     21\u001b[0m \u001b[0;34m\u001b[0m\u001b[0m\n",
      "\u001b[0;31mNameError\u001b[0m: name 'votes' is not defined"
     ]
    }
   ],
   "source": [
    "for i in latest_question_list:\n",
    "    print (i)\n",
    "    print (i.choices_aviables())"
   ]
  },
  {
   "cell_type": "code",
   "execution_count": 13,
   "metadata": {
    "collapsed": true
   },
   "outputs": [
    {
     "name": "stdout",
     "output_type": "stream",
     "text": [
      "Help on Question in module polls.models object:\n",
      "\n",
      "class Question(django.db.models.base.Model)\n",
      " |  Question(id, question_text, pub_date)\n",
      " |  \n",
      " |  Method resolution order:\n",
      " |      Question\n",
      " |      django.db.models.base.Model\n",
      " |      builtins.object\n",
      " |  \n",
      " |  Methods defined here:\n",
      " |  \n",
      " |  __str__(self)\n",
      " |      Return str(self).\n",
      " |  \n",
      " |  choices_aviables(self)\n",
      " |  \n",
      " |  get_next_by_pub_date = _method(self, *, field=<django.db.models.fields.DateTimeField: pub_date>, is_next=True, **kwargs)\n",
      " |  \n",
      " |  get_previous_by_pub_date = _method(self, *, field=<django.db.models.fields.DateTimeField: pub_date>, is_next=False, **kwargs)\n",
      " |  \n",
      " |  id = <django.db.models.query_utils.DeferredAttribute object>\n",
      " |  pub_date = <django.db.models.query_utils.DeferredAttribute object>\n",
      " |  question_text = <django.db.models.query_utils.DeferredAttribute object>\n",
      " |  was_published_recently(self)\n",
      " |  \n",
      " |  ----------------------------------------------------------------------\n",
      " |  Data descriptors defined here:\n",
      " |  \n",
      " |  choice_set\n",
      " |      Accessor to the related objects manager on the reverse side of a\n",
      " |      many-to-one relation.\n",
      " |      \n",
      " |      In the example::\n",
      " |      \n",
      " |          class Child(Model):\n",
      " |              parent = ForeignKey(Parent, related_name='children')\n",
      " |      \n",
      " |      ``Parent.children`` is a ``ReverseManyToOneDescriptor`` instance.\n",
      " |      \n",
      " |      Most of the implementation is delegated to a dynamically defined manager\n",
      " |      class built by ``create_forward_many_to_many_manager()`` defined below.\n",
      " |  \n",
      " |  ----------------------------------------------------------------------\n",
      " |  Data and other attributes defined here:\n",
      " |  \n",
      " |  DoesNotExist = <class 'polls.models.DoesNotExist'>\n",
      " |      The requested object does not exist\n",
      " |  \n",
      " |  MultipleObjectsReturned = <class 'polls.models.MultipleObjectsReturned...\n",
      " |      The query returned multiple objects when only one was expected.\n",
      " |  \n",
      " |  objects = <django.db.models.manager.Manager object>\n",
      " |  \n",
      " |  ----------------------------------------------------------------------\n",
      " |  Methods inherited from django.db.models.base.Model:\n",
      " |  \n",
      " |  __eq__(self, other)\n",
      " |      Return self==value.\n",
      " |  \n",
      " |  __getstate__(self)\n",
      " |      Hook to allow choosing the attributes to pickle.\n",
      " |  \n",
      " |  __hash__(self)\n",
      " |      Return hash(self).\n",
      " |  \n",
      " |  __init__(self, *args, **kwargs)\n",
      " |      Initialize self.  See help(type(self)) for accurate signature.\n",
      " |  \n",
      " |  __reduce__(self)\n",
      " |      helper for pickle\n",
      " |  \n",
      " |  __repr__(self)\n",
      " |      Return repr(self).\n",
      " |  \n",
      " |  __setstate__(self, state)\n",
      " |  \n",
      " |  clean(self)\n",
      " |      Hook for doing any extra model-wide validation after clean() has been\n",
      " |      called on every field by self.clean_fields. Any ValidationError raised\n",
      " |      by this method will not be associated with a particular field; it will\n",
      " |      have a special-case association with the field defined by NON_FIELD_ERRORS.\n",
      " |  \n",
      " |  clean_fields(self, exclude=None)\n",
      " |      Clean all fields and raise a ValidationError containing a dict\n",
      " |      of all validation errors if any occur.\n",
      " |  \n",
      " |  date_error_message(self, lookup_type, field_name, unique_for)\n",
      " |  \n",
      " |  delete(self, using=None, keep_parents=False)\n",
      " |  \n",
      " |  full_clean(self, exclude=None, validate_unique=True)\n",
      " |      Call clean_fields(), clean(), and validate_unique() on the model.\n",
      " |      Raise a ValidationError for any errors that occur.\n",
      " |  \n",
      " |  get_deferred_fields(self)\n",
      " |      Return a set containing names of deferred fields for this instance.\n",
      " |  \n",
      " |  prepare_database_save(self, field)\n",
      " |  \n",
      " |  refresh_from_db(self, using=None, fields=None)\n",
      " |      Reload field values from the database.\n",
      " |      \n",
      " |      By default, the reloading happens from the database this instance was\n",
      " |      loaded from, or by the read router if this instance wasn't loaded from\n",
      " |      any database. The using parameter will override the default.\n",
      " |      \n",
      " |      Fields can be used to specify which fields to reload. The fields\n",
      " |      should be an iterable of field attnames. If fields is None, then\n",
      " |      all non-deferred fields are reloaded.\n",
      " |      \n",
      " |      When accessing deferred fields of an instance, the deferred loading\n",
      " |      of the field will call this method.\n",
      " |  \n",
      " |  save(self, force_insert=False, force_update=False, using=None, update_fields=None)\n",
      " |      Save the current instance. Override this in a subclass if you want to\n",
      " |      control the saving process.\n",
      " |      \n",
      " |      The 'force_insert' and 'force_update' parameters can be used to insist\n",
      " |      that the \"save\" must be an SQL insert or update (or equivalent for\n",
      " |      non-SQL backends), respectively. Normally, they should not be set.\n",
      " |  \n",
      " |  save_base(self, raw=False, force_insert=False, force_update=False, using=None, update_fields=None)\n",
      " |      Handle the parts of saving which should be done only once per save,\n",
      " |      yet need to be done in raw saves, too. This includes some sanity\n",
      " |      checks and signal sending.\n",
      " |      \n",
      " |      The 'raw' argument is telling save_base not to save any parent\n",
      " |      models and not to do any changes to the values before save. This\n",
      " |      is used by fixture loading.\n",
      " |  \n",
      " |  serializable_value(self, field_name)\n",
      " |      Return the value of the field name for this instance. If the field is\n",
      " |      a foreign key, return the id value instead of the object. If there's\n",
      " |      no Field object with this name on the model, return the model\n",
      " |      attribute's value.\n",
      " |      \n",
      " |      Used to serialize a field's value (in the serializer, or form output,\n",
      " |      for example). Normally, you would just access the attribute directly\n",
      " |      and not use this method.\n",
      " |  \n",
      " |  unique_error_message(self, model_class, unique_check)\n",
      " |  \n",
      " |  validate_unique(self, exclude=None)\n",
      " |      Check unique constraints on the model and raise ValidationError if any\n",
      " |      failed.\n",
      " |  \n",
      " |  ----------------------------------------------------------------------\n",
      " |  Class methods inherited from django.db.models.base.Model:\n",
      " |  \n",
      " |  check(**kwargs) from django.db.models.base.ModelBase\n",
      " |  \n",
      " |  from_db(db, field_names, values) from django.db.models.base.ModelBase\n",
      " |  \n",
      " |  ----------------------------------------------------------------------\n",
      " |  Data descriptors inherited from django.db.models.base.Model:\n",
      " |  \n",
      " |  __dict__\n",
      " |      dictionary for instance variables (if defined)\n",
      " |  \n",
      " |  __weakref__\n",
      " |      list of weak references to the object (if defined)\n",
      " |  \n",
      " |  pk\n",
      "\n"
     ]
    }
   ],
   "source": [
    "help(i)"
   ]
  },
  {
   "cell_type": "code",
   "execution_count": 21,
   "metadata": {},
   "outputs": [
    {
     "data": {
      "text/plain": [
       "<Question: Hello?>"
      ]
     },
     "execution_count": 21,
     "metadata": {},
     "output_type": "execute_result"
    }
   ],
   "source": [
    "i"
   ]
  },
  {
   "cell_type": "code",
   "execution_count": 16,
   "metadata": {},
   "outputs": [
    {
     "name": "stdout",
     "output_type": "stream",
     "text": [
      "Help on Question in module polls.models object:\n",
      "\n",
      "class Question(django.db.models.base.Model)\n",
      " |  Question(id, question_text, pub_date)\n",
      " |  \n",
      " |  Method resolution order:\n",
      " |      Question\n",
      " |      django.db.models.base.Model\n",
      " |      builtins.object\n",
      " |  \n",
      " |  Methods defined here:\n",
      " |  \n",
      " |  __str__(self)\n",
      " |      Return str(self).\n",
      " |  \n",
      " |  get_next_by_pub_date = _method(self, *, field=<django.db.models.fields.DateTimeField: pub_date>, is_next=True, **kwargs)\n",
      " |  \n",
      " |  get_previous_by_pub_date = _method(self, *, field=<django.db.models.fields.DateTimeField: pub_date>, is_next=False, **kwargs)\n",
      " |  \n",
      " |  id = <django.db.models.query_utils.DeferredAttribute object>\n",
      " |  pub_date = <django.db.models.query_utils.DeferredAttribute object>\n",
      " |  question_text = <django.db.models.query_utils.DeferredAttribute object>\n",
      " |  was_published_recently(self)\n",
      " |  \n",
      " |  ----------------------------------------------------------------------\n",
      " |  Data descriptors defined here:\n",
      " |  \n",
      " |  choice_set\n",
      " |      Accessor to the related objects manager on the reverse side of a\n",
      " |      many-to-one relation.\n",
      " |      \n",
      " |      In the example::\n",
      " |      \n",
      " |          class Child(Model):\n",
      " |              parent = ForeignKey(Parent, related_name='children')\n",
      " |      \n",
      " |      ``Parent.children`` is a ``ReverseManyToOneDescriptor`` instance.\n",
      " |      \n",
      " |      Most of the implementation is delegated to a dynamically defined manager\n",
      " |      class built by ``create_forward_many_to_many_manager()`` defined below.\n",
      " |  \n",
      " |  ----------------------------------------------------------------------\n",
      " |  Data and other attributes defined here:\n",
      " |  \n",
      " |  DoesNotExist = <class 'polls.models.DoesNotExist'>\n",
      " |      The requested object does not exist\n",
      " |  \n",
      " |  MultipleObjectsReturned = <class 'polls.models.MultipleObjectsReturned...\n",
      " |      The query returned multiple objects when only one was expected.\n",
      " |  \n",
      " |  objects = <django.db.models.manager.Manager object>\n",
      " |  \n",
      " |  ----------------------------------------------------------------------\n",
      " |  Methods inherited from django.db.models.base.Model:\n",
      " |  \n",
      " |  __eq__(self, other)\n",
      " |      Return self==value.\n",
      " |  \n",
      " |  __getstate__(self)\n",
      " |      Hook to allow choosing the attributes to pickle.\n",
      " |  \n",
      " |  __hash__(self)\n",
      " |      Return hash(self).\n",
      " |  \n",
      " |  __init__(self, *args, **kwargs)\n",
      " |      Initialize self.  See help(type(self)) for accurate signature.\n",
      " |  \n",
      " |  __reduce__(self)\n",
      " |      helper for pickle\n",
      " |  \n",
      " |  __repr__(self)\n",
      " |      Return repr(self).\n",
      " |  \n",
      " |  __setstate__(self, state)\n",
      " |  \n",
      " |  clean(self)\n",
      " |      Hook for doing any extra model-wide validation after clean() has been\n",
      " |      called on every field by self.clean_fields. Any ValidationError raised\n",
      " |      by this method will not be associated with a particular field; it will\n",
      " |      have a special-case association with the field defined by NON_FIELD_ERRORS.\n",
      " |  \n",
      " |  clean_fields(self, exclude=None)\n",
      " |      Clean all fields and raise a ValidationError containing a dict\n",
      " |      of all validation errors if any occur.\n",
      " |  \n",
      " |  date_error_message(self, lookup_type, field_name, unique_for)\n",
      " |  \n",
      " |  delete(self, using=None, keep_parents=False)\n",
      " |  \n",
      " |  full_clean(self, exclude=None, validate_unique=True)\n",
      " |      Call clean_fields(), clean(), and validate_unique() on the model.\n",
      " |      Raise a ValidationError for any errors that occur.\n",
      " |  \n",
      " |  get_deferred_fields(self)\n",
      " |      Return a set containing names of deferred fields for this instance.\n",
      " |  \n",
      " |  prepare_database_save(self, field)\n",
      " |  \n",
      " |  refresh_from_db(self, using=None, fields=None)\n",
      " |      Reload field values from the database.\n",
      " |      \n",
      " |      By default, the reloading happens from the database this instance was\n",
      " |      loaded from, or by the read router if this instance wasn't loaded from\n",
      " |      any database. The using parameter will override the default.\n",
      " |      \n",
      " |      Fields can be used to specify which fields to reload. The fields\n",
      " |      should be an iterable of field attnames. If fields is None, then\n",
      " |      all non-deferred fields are reloaded.\n",
      " |      \n",
      " |      When accessing deferred fields of an instance, the deferred loading\n",
      " |      of the field will call this method.\n",
      " |  \n",
      " |  save(self, force_insert=False, force_update=False, using=None, update_fields=None)\n",
      " |      Save the current instance. Override this in a subclass if you want to\n",
      " |      control the saving process.\n",
      " |      \n",
      " |      The 'force_insert' and 'force_update' parameters can be used to insist\n",
      " |      that the \"save\" must be an SQL insert or update (or equivalent for\n",
      " |      non-SQL backends), respectively. Normally, they should not be set.\n",
      " |  \n",
      " |  save_base(self, raw=False, force_insert=False, force_update=False, using=None, update_fields=None)\n",
      " |      Handle the parts of saving which should be done only once per save,\n",
      " |      yet need to be done in raw saves, too. This includes some sanity\n",
      " |      checks and signal sending.\n",
      " |      \n",
      " |      The 'raw' argument is telling save_base not to save any parent\n",
      " |      models and not to do any changes to the values before save. This\n",
      " |      is used by fixture loading.\n",
      " |  \n",
      " |  serializable_value(self, field_name)\n",
      " |      Return the value of the field name for this instance. If the field is\n",
      " |      a foreign key, return the id value instead of the object. If there's\n",
      " |      no Field object with this name on the model, return the model\n",
      " |      attribute's value.\n",
      " |      \n",
      " |      Used to serialize a field's value (in the serializer, or form output,\n",
      " |      for example). Normally, you would just access the attribute directly\n",
      " |      and not use this method.\n",
      " |  \n",
      " |  unique_error_message(self, model_class, unique_check)\n",
      " |  \n",
      " |  validate_unique(self, exclude=None)\n",
      " |      Check unique constraints on the model and raise ValidationError if any\n",
      " |      failed.\n",
      " |  \n",
      " |  ----------------------------------------------------------------------\n",
      " |  Class methods inherited from django.db.models.base.Model:\n",
      " |  \n",
      " |  check(**kwargs) from django.db.models.base.ModelBase\n",
      " |  \n",
      " |  from_db(db, field_names, values) from django.db.models.base.ModelBase\n",
      " |  \n",
      " |  ----------------------------------------------------------------------\n",
      " |  Data descriptors inherited from django.db.models.base.Model:\n",
      " |  \n",
      " |  __dict__\n",
      " |      dictionary for instance variables (if defined)\n",
      " |  \n",
      " |  __weakref__\n",
      " |      list of weak references to the object (if defined)\n",
      " |  \n",
      " |  pk\n",
      "\n"
     ]
    }
   ],
   "source": [
    "help(q)"
   ]
  },
  {
   "cell_type": "code",
   "execution_count": 5,
   "metadata": {},
   "outputs": [
    {
     "data": {
      "text/plain": [
       "<QuerySet [<Choice: Hi>, <Choice: Nice to meet you!>]>"
      ]
     },
     "execution_count": 5,
     "metadata": {},
     "output_type": "execute_result"
    }
   ],
   "source": [
    "q.ch_aviable()"
   ]
  },
  {
   "cell_type": "code",
   "execution_count": 6,
   "metadata": {},
   "outputs": [
    {
     "data": {
      "text/plain": [
       "2"
      ]
     },
     "execution_count": 6,
     "metadata": {},
     "output_type": "execute_result"
    }
   ],
   "source": [
    "len(q.ch_aviable())"
   ]
  },
  {
   "cell_type": "code",
   "execution_count": null,
   "metadata": {},
   "outputs": [],
   "source": []
  },
  {
   "cell_type": "code",
   "execution_count": null,
   "metadata": {},
   "outputs": [],
   "source": []
  },
  {
   "cell_type": "code",
   "execution_count": 7,
   "metadata": {},
   "outputs": [
    {
     "data": {
      "text/plain": [
       "<QuerySet [<Choice: Hi>, <Choice: How Are You?>, <Choice: Nice to meet you!>]>"
      ]
     },
     "execution_count": 7,
     "metadata": {},
     "output_type": "execute_result"
    }
   ],
   "source": [
    "q.choice_set.all()"
   ]
  },
  {
   "cell_type": "code",
   "execution_count": 4,
   "metadata": {},
   "outputs": [
    {
     "data": {
      "text/plain": [
       "3"
      ]
     },
     "execution_count": 4,
     "metadata": {},
     "output_type": "execute_result"
    }
   ],
   "source": [
    "q.choice_set.count()"
   ]
  },
  {
   "cell_type": "code",
   "execution_count": 5,
   "metadata": {},
   "outputs": [
    {
     "data": {
      "text/plain": [
       "<QuerySet [<Choice: Hi>, <Choice: How Are You?>]>"
      ]
     },
     "execution_count": 5,
     "metadata": {},
     "output_type": "execute_result"
    }
   ],
   "source": [
    "q.choice_set.filter(choice_text__contains='H')"
   ]
  },
  {
   "cell_type": "code",
   "execution_count": 8,
   "metadata": {},
   "outputs": [
    {
     "data": {
      "text/plain": [
       "<QuerySet [<Choice: Hi>, <Choice: Nice to meet you!>]>"
      ]
     },
     "execution_count": 8,
     "metadata": {},
     "output_type": "execute_result"
    }
   ],
   "source": [
    "q.choice_set.filter(votes=1)"
   ]
  },
  {
   "cell_type": "code",
   "execution_count": null,
   "metadata": {},
   "outputs": [],
   "source": []
  }
 ],
 "metadata": {
  "kernelspec": {
   "display_name": "Django Shell-Plus",
   "language": "python",
   "name": "django_extensions"
  },
  "language_info": {
   "codemirror_mode": {
    "name": "ipython",
    "version": 3
   },
   "file_extension": ".py",
   "mimetype": "text/x-python",
   "name": "python",
   "nbconvert_exporter": "python",
   "pygments_lexer": "ipython3",
   "version": "3.6.3"
  }
 },
 "nbformat": 4,
 "nbformat_minor": 2
}
